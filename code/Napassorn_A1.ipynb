{
 "cells": [
  {
   "cell_type": "markdown",
   "metadata": {},
   "source": [
    "# A1 - Predicting Car Prices"
   ]
  },
  {
   "cell_type": "markdown",
   "metadata": {},
   "source": [
    "## Importing libraries"
   ]
  },
  {
   "cell_type": "code",
   "execution_count": 1,
   "metadata": {},
   "outputs": [],
   "source": [
    "import numpy as np\n",
    "import pandas as pd\n",
    "import seaborn as sns\n",
    "import matplotlib.pyplot as plt "
   ]
  },
  {
   "cell_type": "markdown",
   "metadata": {},
   "source": [
    "# 1. Load data"
   ]
  },
  {
   "cell_type": "code",
   "execution_count": 2,
   "metadata": {},
   "outputs": [],
   "source": [
    "df = pd.read_csv('Cars.csv')"
   ]
  },
  {
   "cell_type": "code",
   "execution_count": 3,
   "metadata": {},
   "outputs": [
    {
     "data": {
      "text/html": [
       "<div>\n",
       "<style scoped>\n",
       "    .dataframe tbody tr th:only-of-type {\n",
       "        vertical-align: middle;\n",
       "    }\n",
       "\n",
       "    .dataframe tbody tr th {\n",
       "        vertical-align: top;\n",
       "    }\n",
       "\n",
       "    .dataframe thead th {\n",
       "        text-align: right;\n",
       "    }\n",
       "</style>\n",
       "<table border=\"1\" class=\"dataframe\">\n",
       "  <thead>\n",
       "    <tr style=\"text-align: right;\">\n",
       "      <th></th>\n",
       "      <th>name</th>\n",
       "      <th>year</th>\n",
       "      <th>selling_price</th>\n",
       "      <th>km_driven</th>\n",
       "      <th>fuel</th>\n",
       "      <th>seller_type</th>\n",
       "      <th>transmission</th>\n",
       "      <th>owner</th>\n",
       "      <th>mileage</th>\n",
       "      <th>engine</th>\n",
       "      <th>max_power</th>\n",
       "      <th>torque</th>\n",
       "      <th>seats</th>\n",
       "    </tr>\n",
       "  </thead>\n",
       "  <tbody>\n",
       "    <tr>\n",
       "      <th>0</th>\n",
       "      <td>Maruti Swift Dzire VDI</td>\n",
       "      <td>2014</td>\n",
       "      <td>450000</td>\n",
       "      <td>145500</td>\n",
       "      <td>Diesel</td>\n",
       "      <td>Individual</td>\n",
       "      <td>Manual</td>\n",
       "      <td>First Owner</td>\n",
       "      <td>23.4 kmpl</td>\n",
       "      <td>1248 CC</td>\n",
       "      <td>74 bhp</td>\n",
       "      <td>190Nm@ 2000rpm</td>\n",
       "      <td>5.0</td>\n",
       "    </tr>\n",
       "    <tr>\n",
       "      <th>1</th>\n",
       "      <td>Skoda Rapid 1.5 TDI Ambition</td>\n",
       "      <td>2014</td>\n",
       "      <td>370000</td>\n",
       "      <td>120000</td>\n",
       "      <td>Diesel</td>\n",
       "      <td>Individual</td>\n",
       "      <td>Manual</td>\n",
       "      <td>Second Owner</td>\n",
       "      <td>21.14 kmpl</td>\n",
       "      <td>1498 CC</td>\n",
       "      <td>103.52 bhp</td>\n",
       "      <td>250Nm@ 1500-2500rpm</td>\n",
       "      <td>5.0</td>\n",
       "    </tr>\n",
       "    <tr>\n",
       "      <th>2</th>\n",
       "      <td>Honda City 2017-2020 EXi</td>\n",
       "      <td>2006</td>\n",
       "      <td>158000</td>\n",
       "      <td>140000</td>\n",
       "      <td>Petrol</td>\n",
       "      <td>Individual</td>\n",
       "      <td>Manual</td>\n",
       "      <td>Third Owner</td>\n",
       "      <td>17.7 kmpl</td>\n",
       "      <td>1497 CC</td>\n",
       "      <td>78 bhp</td>\n",
       "      <td>12.7@ 2,700(kgm@ rpm)</td>\n",
       "      <td>5.0</td>\n",
       "    </tr>\n",
       "    <tr>\n",
       "      <th>3</th>\n",
       "      <td>Hyundai i20 Sportz Diesel</td>\n",
       "      <td>2010</td>\n",
       "      <td>225000</td>\n",
       "      <td>127000</td>\n",
       "      <td>Diesel</td>\n",
       "      <td>Individual</td>\n",
       "      <td>Manual</td>\n",
       "      <td>First Owner</td>\n",
       "      <td>23.0 kmpl</td>\n",
       "      <td>1396 CC</td>\n",
       "      <td>90 bhp</td>\n",
       "      <td>22.4 kgm at 1750-2750rpm</td>\n",
       "      <td>5.0</td>\n",
       "    </tr>\n",
       "    <tr>\n",
       "      <th>4</th>\n",
       "      <td>Maruti Swift VXI BSIII</td>\n",
       "      <td>2007</td>\n",
       "      <td>130000</td>\n",
       "      <td>120000</td>\n",
       "      <td>Petrol</td>\n",
       "      <td>Individual</td>\n",
       "      <td>Manual</td>\n",
       "      <td>First Owner</td>\n",
       "      <td>16.1 kmpl</td>\n",
       "      <td>1298 CC</td>\n",
       "      <td>88.2 bhp</td>\n",
       "      <td>11.5@ 4,500(kgm@ rpm)</td>\n",
       "      <td>5.0</td>\n",
       "    </tr>\n",
       "  </tbody>\n",
       "</table>\n",
       "</div>"
      ],
      "text/plain": [
       "                           name  year  selling_price  km_driven    fuel  \\\n",
       "0        Maruti Swift Dzire VDI  2014         450000     145500  Diesel   \n",
       "1  Skoda Rapid 1.5 TDI Ambition  2014         370000     120000  Diesel   \n",
       "2      Honda City 2017-2020 EXi  2006         158000     140000  Petrol   \n",
       "3     Hyundai i20 Sportz Diesel  2010         225000     127000  Diesel   \n",
       "4        Maruti Swift VXI BSIII  2007         130000     120000  Petrol   \n",
       "\n",
       "  seller_type transmission         owner     mileage   engine   max_power  \\\n",
       "0  Individual       Manual   First Owner   23.4 kmpl  1248 CC      74 bhp   \n",
       "1  Individual       Manual  Second Owner  21.14 kmpl  1498 CC  103.52 bhp   \n",
       "2  Individual       Manual   Third Owner   17.7 kmpl  1497 CC      78 bhp   \n",
       "3  Individual       Manual   First Owner   23.0 kmpl  1396 CC      90 bhp   \n",
       "4  Individual       Manual   First Owner   16.1 kmpl  1298 CC    88.2 bhp   \n",
       "\n",
       "                     torque  seats  \n",
       "0            190Nm@ 2000rpm    5.0  \n",
       "1       250Nm@ 1500-2500rpm    5.0  \n",
       "2     12.7@ 2,700(kgm@ rpm)    5.0  \n",
       "3  22.4 kgm at 1750-2750rpm    5.0  \n",
       "4     11.5@ 4,500(kgm@ rpm)    5.0  "
      ]
     },
     "execution_count": 3,
     "metadata": {},
     "output_type": "execute_result"
    }
   ],
   "source": [
    "# print the first rows of data\n",
    "df.head()"
   ]
  },
  {
   "cell_type": "code",
   "execution_count": 4,
   "metadata": {},
   "outputs": [
    {
     "data": {
      "text/plain": [
       "(8128, 13)"
      ]
     },
     "execution_count": 4,
     "metadata": {},
     "output_type": "execute_result"
    }
   ],
   "source": [
    "# Check the shape of your data - This mean you have 12 feature and 1 label\n",
    "df.shape"
   ]
  },
  {
   "cell_type": "code",
   "execution_count": 5,
   "metadata": {},
   "outputs": [
    {
     "data": {
      "text/html": [
       "<div>\n",
       "<style scoped>\n",
       "    .dataframe tbody tr th:only-of-type {\n",
       "        vertical-align: middle;\n",
       "    }\n",
       "\n",
       "    .dataframe tbody tr th {\n",
       "        vertical-align: top;\n",
       "    }\n",
       "\n",
       "    .dataframe thead th {\n",
       "        text-align: right;\n",
       "    }\n",
       "</style>\n",
       "<table border=\"1\" class=\"dataframe\">\n",
       "  <thead>\n",
       "    <tr style=\"text-align: right;\">\n",
       "      <th></th>\n",
       "      <th>year</th>\n",
       "      <th>selling_price</th>\n",
       "      <th>km_driven</th>\n",
       "      <th>seats</th>\n",
       "    </tr>\n",
       "  </thead>\n",
       "  <tbody>\n",
       "    <tr>\n",
       "      <th>count</th>\n",
       "      <td>8128.000000</td>\n",
       "      <td>8.128000e+03</td>\n",
       "      <td>8.128000e+03</td>\n",
       "      <td>7907.000000</td>\n",
       "    </tr>\n",
       "    <tr>\n",
       "      <th>mean</th>\n",
       "      <td>2013.804011</td>\n",
       "      <td>6.382718e+05</td>\n",
       "      <td>6.981951e+04</td>\n",
       "      <td>5.416719</td>\n",
       "    </tr>\n",
       "    <tr>\n",
       "      <th>std</th>\n",
       "      <td>4.044249</td>\n",
       "      <td>8.062534e+05</td>\n",
       "      <td>5.655055e+04</td>\n",
       "      <td>0.959588</td>\n",
       "    </tr>\n",
       "    <tr>\n",
       "      <th>min</th>\n",
       "      <td>1983.000000</td>\n",
       "      <td>2.999900e+04</td>\n",
       "      <td>1.000000e+00</td>\n",
       "      <td>2.000000</td>\n",
       "    </tr>\n",
       "    <tr>\n",
       "      <th>25%</th>\n",
       "      <td>2011.000000</td>\n",
       "      <td>2.549990e+05</td>\n",
       "      <td>3.500000e+04</td>\n",
       "      <td>5.000000</td>\n",
       "    </tr>\n",
       "    <tr>\n",
       "      <th>50%</th>\n",
       "      <td>2015.000000</td>\n",
       "      <td>4.500000e+05</td>\n",
       "      <td>6.000000e+04</td>\n",
       "      <td>5.000000</td>\n",
       "    </tr>\n",
       "    <tr>\n",
       "      <th>75%</th>\n",
       "      <td>2017.000000</td>\n",
       "      <td>6.750000e+05</td>\n",
       "      <td>9.800000e+04</td>\n",
       "      <td>5.000000</td>\n",
       "    </tr>\n",
       "    <tr>\n",
       "      <th>max</th>\n",
       "      <td>2020.000000</td>\n",
       "      <td>1.000000e+07</td>\n",
       "      <td>2.360457e+06</td>\n",
       "      <td>14.000000</td>\n",
       "    </tr>\n",
       "  </tbody>\n",
       "</table>\n",
       "</div>"
      ],
      "text/plain": [
       "              year  selling_price     km_driven        seats\n",
       "count  8128.000000   8.128000e+03  8.128000e+03  7907.000000\n",
       "mean   2013.804011   6.382718e+05  6.981951e+04     5.416719\n",
       "std       4.044249   8.062534e+05  5.655055e+04     0.959588\n",
       "min    1983.000000   2.999900e+04  1.000000e+00     2.000000\n",
       "25%    2011.000000   2.549990e+05  3.500000e+04     5.000000\n",
       "50%    2015.000000   4.500000e+05  6.000000e+04     5.000000\n",
       "75%    2017.000000   6.750000e+05  9.800000e+04     5.000000\n",
       "max    2020.000000   1.000000e+07  2.360457e+06    14.000000"
      ]
     },
     "execution_count": 5,
     "metadata": {},
     "output_type": "execute_result"
    }
   ],
   "source": [
    "# Check Statistical info\n",
    "df.describe()"
   ]
  },
  {
   "cell_type": "code",
   "execution_count": 6,
   "metadata": {},
   "outputs": [
    {
     "name": "stdout",
     "output_type": "stream",
     "text": [
      "<class 'pandas.core.frame.DataFrame'>\n",
      "RangeIndex: 8128 entries, 0 to 8127\n",
      "Data columns (total 13 columns):\n",
      " #   Column         Non-Null Count  Dtype  \n",
      "---  ------         --------------  -----  \n",
      " 0   name           8128 non-null   object \n",
      " 1   year           8128 non-null   int64  \n",
      " 2   selling_price  8128 non-null   int64  \n",
      " 3   km_driven      8128 non-null   int64  \n",
      " 4   fuel           8128 non-null   object \n",
      " 5   seller_type    8128 non-null   object \n",
      " 6   transmission   8128 non-null   object \n",
      " 7   owner          8128 non-null   object \n",
      " 8   mileage        7907 non-null   object \n",
      " 9   engine         7907 non-null   object \n",
      " 10  max_power      7913 non-null   object \n",
      " 11  torque         7906 non-null   object \n",
      " 12  seats          7907 non-null   float64\n",
      "dtypes: float64(1), int64(3), object(9)\n",
      "memory usage: 825.6+ KB\n"
     ]
    }
   ],
   "source": [
    "# Check Dtypes of your input data\n",
    "df.info()"
   ]
  },
  {
   "cell_type": "code",
   "execution_count": 7,
   "metadata": {},
   "outputs": [
    {
     "data": {
      "text/plain": [
       "Index(['name', 'year', 'selling_price', 'km_driven', 'fuel', 'seller_type',\n",
       "       'transmission', 'owner', 'mileage', 'engine', 'max_power', 'torque',\n",
       "       'seats'],\n",
       "      dtype='object')"
      ]
     },
     "execution_count": 7,
     "metadata": {},
     "output_type": "execute_result"
    }
   ],
   "source": [
    "# Check the column names\n",
    "df.columns"
   ]
  },
  {
   "cell_type": "markdown",
   "metadata": {},
   "source": [
    "# 2. Exploratory Data Analysis"
   ]
  },
  {
   "cell_type": "code",
   "execution_count": 8,
   "metadata": {},
   "outputs": [],
   "source": [
    "df_eda = df.copy()"
   ]
  },
  {
   "cell_type": "markdown",
   "metadata": {},
   "source": [
    "## Renaming"
   ]
  },
  {
   "cell_type": "code",
   "execution_count": 9,
   "metadata": {},
   "outputs": [
    {
     "data": {
      "text/plain": [
       "Index(['brand', 'year', 'selling_price', 'km_driven', 'fuel', 'seller_type',\n",
       "       'transmission', 'owner', 'mileage', 'engine', 'max_power', 'torque',\n",
       "       'seats'],\n",
       "      dtype='object')"
      ]
     },
     "execution_count": 9,
     "metadata": {},
     "output_type": "execute_result"
    }
   ],
   "source": [
    "# Renaming \n",
    "df_eda.rename(columns = {\n",
    "        'name':'brand'}, inplace = True)\n",
    "df_eda.columns"
   ]
  },
  {
   "cell_type": "markdown",
   "metadata": {},
   "source": [
    "## Mapping owner "
   ]
  },
  {
   "cell_type": "code",
   "execution_count": 10,
   "metadata": {},
   "outputs": [
    {
     "data": {
      "text/plain": [
       "array(['First Owner', 'Second Owner', 'Third Owner',\n",
       "       'Fourth & Above Owner', 'Test Drive Car'], dtype=object)"
      ]
     },
     "execution_count": 10,
     "metadata": {},
     "output_type": "execute_result"
    }
   ],
   "source": [
    "df_eda[\"owner\"].unique() "
   ]
  },
  {
   "cell_type": "code",
   "execution_count": 11,
   "metadata": {},
   "outputs": [],
   "source": [
    "mapping = {\n",
    "    'First Owner' : 1,\n",
    "    'Second Owner' : 2,\n",
    "    'Third Owner' : 3,\n",
    "    'Fourth & Above Owner': 4,\n",
    "    'Test Drive Car' : 5,\n",
    "}\n",
    "\n",
    "df_eda['owner'] = df_eda['owner'].map(mapping)"
   ]
  },
  {
   "cell_type": "code",
   "execution_count": 12,
   "metadata": {},
   "outputs": [
    {
     "data": {
      "text/plain": [
       "array([1, 2, 3, 4, 5])"
      ]
     },
     "execution_count": 12,
     "metadata": {},
     "output_type": "execute_result"
    }
   ],
   "source": [
    "df_eda[\"owner\"].unique() "
   ]
  },
  {
   "cell_type": "markdown",
   "metadata": {},
   "source": [
    "## Remove row in fuel with CNG and LPG"
   ]
  },
  {
   "cell_type": "code",
   "execution_count": 13,
   "metadata": {},
   "outputs": [
    {
     "data": {
      "text/plain": [
       "fuel\n",
       "Diesel    4402\n",
       "Petrol    3631\n",
       "CNG         57\n",
       "LPG         38\n",
       "Name: count, dtype: int64"
      ]
     },
     "execution_count": 13,
     "metadata": {},
     "output_type": "execute_result"
    }
   ],
   "source": [
    "df_eda[\"fuel\"].value_counts()"
   ]
  },
  {
   "cell_type": "code",
   "execution_count": 14,
   "metadata": {},
   "outputs": [],
   "source": [
    "df_eda = df_eda[~df_eda['fuel'].str.contains('CNG|LPG')]"
   ]
  },
  {
   "cell_type": "code",
   "execution_count": 15,
   "metadata": {},
   "outputs": [
    {
     "data": {
      "text/plain": [
       "fuel\n",
       "Diesel    4402\n",
       "Petrol    3631\n",
       "Name: count, dtype: int64"
      ]
     },
     "execution_count": 15,
     "metadata": {},
     "output_type": "execute_result"
    }
   ],
   "source": [
    "df_eda[\"fuel\"].value_counts()"
   ]
  },
  {
   "cell_type": "markdown",
   "metadata": {},
   "source": [
    "## In mileage (Remove \"kmpl\" unit in the data and convert to numberic type)"
   ]
  },
  {
   "cell_type": "code",
   "execution_count": 16,
   "metadata": {},
   "outputs": [
    {
     "data": {
      "text/plain": [
       "array(['23.4 kmpl', '21.14 kmpl', '17.7 kmpl', '23.0 kmpl', '16.1 kmpl',\n",
       "       '20.14 kmpl', '23.59 kmpl', '20.0 kmpl', '19.01 kmpl', '17.3 kmpl',\n",
       "       '19.3 kmpl', nan, '18.9 kmpl', '18.15 kmpl', '24.52 kmpl',\n",
       "       '19.7 kmpl', '22.54 kmpl', '21.0 kmpl', '25.5 kmpl', '26.59 kmpl',\n",
       "       '21.5 kmpl', '20.3 kmpl', '21.4 kmpl', '24.7 kmpl', '18.2 kmpl',\n",
       "       '16.8 kmpl', '24.3 kmpl', '14.0 kmpl', '18.6 kmpl', '23.95 kmpl',\n",
       "       '17.0 kmpl', '20.63 kmpl', '13.93 kmpl', '16.0 kmpl', '17.8 kmpl',\n",
       "       '18.5 kmpl', '12.55 kmpl', '12.99 kmpl', '14.8 kmpl', '13.5 kmpl',\n",
       "       '26.0 kmpl', '20.65 kmpl', '27.3 kmpl', '11.36 kmpl', '17.68 kmpl',\n",
       "       '14.28 kmpl', '18.53 kmpl', '14.84 kmpl', '21.12 kmpl',\n",
       "       '20.36 kmpl', '21.27 kmpl', '18.16 kmpl', '22.0 kmpl', '25.1 kmpl',\n",
       "       '20.51 kmpl', '21.66 kmpl', '25.2 kmpl', '22.9 kmpl', '16.02 kmpl',\n",
       "       '20.54 kmpl', '22.77 kmpl', '15.71 kmpl', '23.1 kmpl',\n",
       "       '19.02 kmpl', '19.81 kmpl', '16.47 kmpl', '15.04 kmpl',\n",
       "       '19.1 kmpl', '21.79 kmpl', '18.8 kmpl', '21.21 kmpl', '15.37 kmpl',\n",
       "       '11.79 kmpl', '19.0 kmpl', '14.3 kmpl', '15.8 kmpl', '15.1 kmpl',\n",
       "       '19.09 kmpl', '22.32 kmpl', '21.9 kmpl', '14.53 kmpl',\n",
       "       '21.63 kmpl', '20.85 kmpl', '20.45 kmpl', '19.67 kmpl',\n",
       "       '23.01 kmpl', '20.77 kmpl', '17.92 kmpl', '17.01 kmpl',\n",
       "       '22.37 kmpl', '19.33 kmpl', '9.5 kmpl', '12.83 kmpl', '22.48 kmpl',\n",
       "       '16.78 kmpl', '14.67 kmpl', '15.0 kmpl', '13.96 kmpl', '18.0 kmpl',\n",
       "       '12.07 kmpl', '26.21 kmpl', '10.8 kmpl', '16.3 kmpl', '13.6 kmpl',\n",
       "       '14.74 kmpl', '15.6 kmpl', '19.56 kmpl', '22.69 kmpl',\n",
       "       '19.16 kmpl', '18.12 kmpl', '12.1 kmpl', '17.5 kmpl', '42.0 kmpl',\n",
       "       '20.4 kmpl', '21.1 kmpl', '19.44 kmpl', '13.0 kmpl', '21.43 kmpl',\n",
       "       '22.95 kmpl', '16.2 kmpl', '15.3 kmpl', '28.09 kmpl', '17.4 kmpl',\n",
       "       '19.4 kmpl', '17.6 kmpl', '28.4 kmpl', '14.1 kmpl', '25.17 kmpl',\n",
       "       '22.74 kmpl', '17.57 kmpl', '16.95 kmpl', '19.49 kmpl',\n",
       "       '17.21 kmpl', '13.2 kmpl', '14.2 kmpl', '26.8 kmpl', '25.4 kmpl',\n",
       "       '11.5 kmpl', '27.28 kmpl', '17.97 kmpl', '12.8 kmpl', '16.55 kmpl',\n",
       "       '12.05 kmpl', '14.07 kmpl', '21.02 kmpl', '11.57 kmpl',\n",
       "       '17.9 kmpl', '15.96 kmpl', '17.1 kmpl', '17.19 kmpl', '21.01 kmpl',\n",
       "       '24.0 kmpl', '25.6 kmpl', '21.38 kmpl', '23.84 kmpl', '23.08 kmpl',\n",
       "       '14.24 kmpl', '20.71 kmpl', '15.64 kmpl', '14.5 kmpl',\n",
       "       '16.34 kmpl', '27.39 kmpl', '11.1 kmpl', '13.9 kmpl', '20.92 kmpl',\n",
       "       '23.8 kmpl', '24.4 kmpl', '15.29 kmpl', '21.19 kmpl', '22.5 kmpl',\n",
       "       '19.6 kmpl', '23.65 kmpl', '25.32 kmpl', '23.5 kmpl', '16.6 kmpl',\n",
       "       '23.9 kmpl', '20.8 kmpl', '27.62 kmpl', '12.9 kmpl', '25.44 kmpl',\n",
       "       '17.88 kmpl', '22.7 kmpl', '17.2 kmpl', '15.42 kmpl', '19.68 kmpl',\n",
       "       '18.7 kmpl', '15.4 kmpl', '19.34 kmpl', '22.71 kmpl', '25.8 kmpl',\n",
       "       '13.7 kmpl', '12.2 kmpl', '18.49 kmpl', '9.0 kmpl', '0.0 kmpl',\n",
       "       '13.58 kmpl', '10.1 kmpl', '20.5 kmpl', '25.0 kmpl', '10.5 kmpl',\n",
       "       '22.07 kmpl', '22.3 kmpl', '15.26 kmpl', '20.62 kmpl', '27.4 kmpl',\n",
       "       '23.2 kmpl', '14.4 kmpl', '18.4 kmpl', '14.02 kmpl', '11.0 kmpl',\n",
       "       '20.6 kmpl', '22.05 kmpl', '20.2 kmpl', '18.1 kmpl', '22.1 kmpl',\n",
       "       '19.87 kmpl', '13.01 kmpl', '18.06 kmpl', '26.1 kmpl',\n",
       "       '16.52 kmpl', '13.55 kmpl', '24.2 kmpl', '25.83 kmpl', '11.2 kmpl',\n",
       "       '17.09 kmpl', '21.03 kmpl', '17.45 kmpl', '21.64 kmpl',\n",
       "       '13.87 kmpl', '19.98 kmpl', '20.52 kmpl', '23.57 kmpl',\n",
       "       '11.7 kmpl', '17.43 kmpl', '18.88 kmpl', '13.68 kmpl',\n",
       "       '11.18 kmpl', '20.89 kmpl', '11.8 kmpl', '19.62 kmpl', '21.7 kmpl',\n",
       "       '14.9 kmpl', '19.5 kmpl', '10.91 kmpl', '15.7 kmpl', '20.73 kmpl',\n",
       "       '15.85 kmpl', '20.7 kmpl', '14.23 kmpl', '16.5 kmpl', '17.36 kmpl',\n",
       "       '12.6 kmpl', '16.36 kmpl', '14.95 kmpl', '16.9 kmpl', '19.2 kmpl',\n",
       "       '16.96 kmpl', '22.15 kmpl', '18.78 kmpl', '19.61 kmpl',\n",
       "       '17.71 kmpl', '18.3 kmpl', '19.12 kmpl', '19.72 kmpl', '12.0 kmpl',\n",
       "       '11.4 kmpl', '23.03 kmpl', '11.07 kmpl', '15.9 kmpl', '17.67 kmpl',\n",
       "       '20.46 kmpl', '13.1 kmpl', '24.8 kmpl', '15.73 kmpl', '15.11 kmpl',\n",
       "       '12.7 kmpl', '21.2 kmpl', '20.38 kmpl', '21.56 kmpl', '13.22 kmpl',\n",
       "       '14.49 kmpl', '15.05 kmpl', '23.26 kmpl', '15.41 kmpl',\n",
       "       '13.8 kmpl', '22.27 kmpl', '14.66 kmpl', '12.12 kmpl',\n",
       "       '16.84 kmpl', '14.09 kmpl', '14.7 kmpl', '13.4 kmpl', '15.5 kmpl',\n",
       "       '13.49 kmpl', '14.6 kmpl', '10.75 kmpl', '24.5 kmpl', '11.74 kmpl',\n",
       "       '16.07 kmpl', '15.63 kmpl', '25.47 kmpl', '17.05 kmpl',\n",
       "       '23.3 kmpl', '11.9 kmpl', '13.38 kmpl', '20.86 kmpl', '10.9 kmpl',\n",
       "       '18.25 kmpl', '15.2 kmpl', '20.37 kmpl', '21.8 kmpl', '11.96 kmpl',\n",
       "       '24.04 kmpl', '19.69 kmpl', '13.73 kmpl', '21.04 kmpl',\n",
       "       '25.01 kmpl', '10.93 kmpl', '24.29 kmpl', '13.44 kmpl',\n",
       "       '20.07 kmpl', '19.08 kmpl', '20.34 kmpl', '11.68 kmpl',\n",
       "       '12.5 kmpl', '12.3 kmpl', '23.87 kmpl', '16.38 kmpl', '17.42 kmpl',\n",
       "       '10.0 kmpl', '18.24 kmpl', '10.71 kmpl', '19.59 kmpl', '16.7 kmpl',\n",
       "       '19.83 kmpl', '21.76 kmpl', '16.05 kmpl', '20.28 kmpl',\n",
       "       '16.25 kmpl', '16.73 kmpl', '18.48 kmpl', '14.99 kmpl',\n",
       "       '18.76 kmpl', '16.4 kmpl', '19.64 kmpl', '14.94 kmpl',\n",
       "       '17.11 kmpl', '12.4 kmpl', '18.44 kmpl', '16.09 kmpl',\n",
       "       '12.62 kmpl', '21.13 kmpl', '15.17 kmpl', '21.73 kmpl',\n",
       "       '21.72 kmpl', '12.85 kmpl', '14.81 kmpl', '13.24 kmpl',\n",
       "       '21.49 kmpl', '14.62 kmpl', '11.45 kmpl', '12.08 kmpl',\n",
       "       '15.74 kmpl', '11.3 kmpl', '14.21 kmpl', '11.72 kmpl',\n",
       "       '16.51 kmpl'], dtype=object)"
      ]
     },
     "execution_count": 16,
     "metadata": {},
     "output_type": "execute_result"
    }
   ],
   "source": [
    "df_eda[\"mileage\"].unique() "
   ]
  },
  {
   "cell_type": "code",
   "execution_count": 17,
   "metadata": {},
   "outputs": [
    {
     "data": {
      "text/plain": [
       "array(['23.4', '21.14', '17.7', '23.0', '16.1', '20.14', '23.59', '20.0',\n",
       "       '19.01', '17.3', '19.3', nan, '18.9', '18.15', '24.52', '19.7',\n",
       "       '22.54', '21.0', '25.5', '26.59', '21.5', '20.3', '21.4', '24.7',\n",
       "       '18.2', '16.8', '24.3', '14.0', '18.6', '23.95', '17.0', '20.63',\n",
       "       '13.93', '16.0', '17.8', '18.5', '12.55', '12.99', '14.8', '13.5',\n",
       "       '26.0', '20.65', '27.3', '11.36', '17.68', '14.28', '18.53',\n",
       "       '14.84', '21.12', '20.36', '21.27', '18.16', '22.0', '25.1',\n",
       "       '20.51', '21.66', '25.2', '22.9', '16.02', '20.54', '22.77',\n",
       "       '15.71', '23.1', '19.02', '19.81', '16.47', '15.04', '19.1',\n",
       "       '21.79', '18.8', '21.21', '15.37', '11.79', '19.0', '14.3', '15.8',\n",
       "       '15.1', '19.09', '22.32', '21.9', '14.53', '21.63', '20.85',\n",
       "       '20.45', '19.67', '23.01', '20.77', '17.92', '17.01', '22.37',\n",
       "       '19.33', '9.5', '12.83', '22.48', '16.78', '14.67', '15.0',\n",
       "       '13.96', '18.0', '12.07', '26.21', '10.8', '16.3', '13.6', '14.74',\n",
       "       '15.6', '19.56', '22.69', '19.16', '18.12', '12.1', '17.5', '42.0',\n",
       "       '20.4', '21.1', '19.44', '13.0', '21.43', '22.95', '16.2', '15.3',\n",
       "       '28.09', '17.4', '19.4', '17.6', '28.4', '14.1', '25.17', '22.74',\n",
       "       '17.57', '16.95', '19.49', '17.21', '13.2', '14.2', '26.8', '25.4',\n",
       "       '11.5', '27.28', '17.97', '12.8', '16.55', '12.05', '14.07',\n",
       "       '21.02', '11.57', '17.9', '15.96', '17.1', '17.19', '21.01',\n",
       "       '24.0', '25.6', '21.38', '23.84', '23.08', '14.24', '20.71',\n",
       "       '15.64', '14.5', '16.34', '27.39', '11.1', '13.9', '20.92', '23.8',\n",
       "       '24.4', '15.29', '21.19', '22.5', '19.6', '23.65', '25.32', '23.5',\n",
       "       '16.6', '23.9', '20.8', '27.62', '12.9', '25.44', '17.88', '22.7',\n",
       "       '17.2', '15.42', '19.68', '18.7', '15.4', '19.34', '22.71', '25.8',\n",
       "       '13.7', '12.2', '18.49', '9.0', '0.0', '13.58', '10.1', '20.5',\n",
       "       '25.0', '10.5', '22.07', '22.3', '15.26', '20.62', '27.4', '23.2',\n",
       "       '14.4', '18.4', '14.02', '11.0', '20.6', '22.05', '20.2', '18.1',\n",
       "       '22.1', '19.87', '13.01', '18.06', '26.1', '16.52', '13.55',\n",
       "       '24.2', '25.83', '11.2', '17.09', '21.03', '17.45', '21.64',\n",
       "       '13.87', '19.98', '20.52', '23.57', '11.7', '17.43', '18.88',\n",
       "       '13.68', '11.18', '20.89', '11.8', '19.62', '21.7', '14.9', '19.5',\n",
       "       '10.91', '15.7', '20.73', '15.85', '20.7', '14.23', '16.5',\n",
       "       '17.36', '12.6', '16.36', '14.95', '16.9', '19.2', '16.96',\n",
       "       '22.15', '18.78', '19.61', '17.71', '18.3', '19.12', '19.72',\n",
       "       '12.0', '11.4', '23.03', '11.07', '15.9', '17.67', '20.46', '13.1',\n",
       "       '24.8', '15.73', '15.11', '12.7', '21.2', '20.38', '21.56',\n",
       "       '13.22', '14.49', '15.05', '23.26', '15.41', '13.8', '22.27',\n",
       "       '14.66', '12.12', '16.84', '14.09', '14.7', '13.4', '15.5',\n",
       "       '13.49', '14.6', '10.75', '24.5', '11.74', '16.07', '15.63',\n",
       "       '25.47', '17.05', '23.3', '11.9', '13.38', '20.86', '10.9',\n",
       "       '18.25', '15.2', '20.37', '21.8', '11.96', '24.04', '19.69',\n",
       "       '13.73', '21.04', '25.01', '10.93', '24.29', '13.44', '20.07',\n",
       "       '19.08', '20.34', '11.68', '12.5', '12.3', '23.87', '16.38',\n",
       "       '17.42', '10.0', '18.24', '10.71', '19.59', '16.7', '19.83',\n",
       "       '21.76', '16.05', '20.28', '16.25', '16.73', '18.48', '14.99',\n",
       "       '18.76', '16.4', '19.64', '14.94', '17.11', '12.4', '18.44',\n",
       "       '16.09', '12.62', '21.13', '15.17', '21.73', '21.72', '12.85',\n",
       "       '14.81', '13.24', '21.49', '14.62', '11.45', '12.08', '15.74',\n",
       "       '11.3', '14.21', '11.72', '16.51'], dtype=object)"
      ]
     },
     "execution_count": 17,
     "metadata": {},
     "output_type": "execute_result"
    }
   ],
   "source": [
    "# Remove 'kmpl' from the 'mileage' column\n",
    "df_eda['mileage'] = df_eda['mileage'].str.replace(' kmpl', '', regex=True)\n",
    "df_eda[\"mileage\"].unique() "
   ]
  },
  {
   "cell_type": "code",
   "execution_count": 18,
   "metadata": {},
   "outputs": [
    {
     "data": {
      "text/plain": [
       "dtype('float64')"
      ]
     },
     "execution_count": 18,
     "metadata": {},
     "output_type": "execute_result"
    }
   ],
   "source": [
    "# Convert things in 'mileage' column into numeric & Nothing into NaN (Not a Number)\n",
    "df_eda['mileage'] = pd.to_numeric(df_eda['mileage'], errors='coerce')\n",
    "df_eda[\"mileage\"].dtype"
   ]
  },
  {
   "cell_type": "markdown",
   "metadata": {},
   "source": [
    "## In engine column (Remove \"CC\" amd convert column into numerical type)"
   ]
  },
  {
   "cell_type": "code",
   "execution_count": 19,
   "metadata": {},
   "outputs": [
    {
     "data": {
      "text/plain": [
       "array(['1248 CC', '1498 CC', '1497 CC', '1396 CC', '1298 CC', '1197 CC',\n",
       "       '796 CC', '1364 CC', '1399 CC', '1461 CC', '993 CC', nan,\n",
       "       '1061 CC', '1198 CC', '1199 CC', '998 CC', '1591 CC', '2179 CC',\n",
       "       '1368 CC', '2982 CC', '2494 CC', '2143 CC', '2477 CC', '1462 CC',\n",
       "       '2755 CC', '1968 CC', '1798 CC', '1196 CC', '1373 CC', '1598 CC',\n",
       "       '1998 CC', '1086 CC', '1194 CC', '1172 CC', '1405 CC', '1582 CC',\n",
       "       '999 CC', '2487 CC', '1999 CC', '3604 CC', '2987 CC', '1995 CC',\n",
       "       '1451 CC', '1969 CC', '2967 CC', '2497 CC', '1797 CC', '1991 CC',\n",
       "       '2362 CC', '1493 CC', '1599 CC', '1341 CC', '1794 CC', '799 CC',\n",
       "       '1193 CC', '2696 CC', '1495 CC', '1186 CC', '1047 CC', '2498 CC',\n",
       "       '2956 CC', '2523 CC', '1120 CC', '624 CC', '1496 CC', '1984 CC',\n",
       "       '2354 CC', '814 CC', '793 CC', '1799 CC', '936 CC', '1956 CC',\n",
       "       '1997 CC', '1499 CC', '1948 CC', '2997 CC', '2489 CC', '2499 CC',\n",
       "       '2609 CC', '2953 CC', '1150 CC', '1994 CC', '1388 CC', '1527 CC',\n",
       "       '2199 CC', '995 CC', '2993 CC', '1586 CC', '1390 CC', '909 CC',\n",
       "       '2393 CC', '3198 CC', '1339 CC', '2835 CC', '2092 CC', '1595 CC',\n",
       "       '2496 CC', '1596 CC', '1597 CC', '2596 CC', '2148 CC', '1299 CC',\n",
       "       '1590 CC', '2231 CC', '2694 CC', '2200 CC', '1795 CC', '1896 CC',\n",
       "       '1796 CC', '1422 CC', '1489 CC', '2359 CC', '2197 CC', '2999 CC',\n",
       "       '1781 CC', '2650 CC', '1343 CC', '2446 CC', '3498 CC', '2198 CC',\n",
       "       '2776 CC', '1950 CC'], dtype=object)"
      ]
     },
     "execution_count": 19,
     "metadata": {},
     "output_type": "execute_result"
    }
   ],
   "source": [
    "df_eda[\"engine\"].unique() "
   ]
  },
  {
   "cell_type": "code",
   "execution_count": 20,
   "metadata": {},
   "outputs": [
    {
     "data": {
      "text/plain": [
       "array(['1248 ', '1498 ', '1497 ', '1396 ', '1298 ', '1197 ', '796 ',\n",
       "       '1364 ', '1399 ', '1461 ', '993 ', nan, '1061 ', '1198 ', '1199 ',\n",
       "       '998 ', '1591 ', '2179 ', '1368 ', '2982 ', '2494 ', '2143 ',\n",
       "       '2477 ', '1462 ', '2755 ', '1968 ', '1798 ', '1196 ', '1373 ',\n",
       "       '1598 ', '1998 ', '1086 ', '1194 ', '1172 ', '1405 ', '1582 ',\n",
       "       '999 ', '2487 ', '1999 ', '3604 ', '2987 ', '1995 ', '1451 ',\n",
       "       '1969 ', '2967 ', '2497 ', '1797 ', '1991 ', '2362 ', '1493 ',\n",
       "       '1599 ', '1341 ', '1794 ', '799 ', '1193 ', '2696 ', '1495 ',\n",
       "       '1186 ', '1047 ', '2498 ', '2956 ', '2523 ', '1120 ', '624 ',\n",
       "       '1496 ', '1984 ', '2354 ', '814 ', '793 ', '1799 ', '936 ',\n",
       "       '1956 ', '1997 ', '1499 ', '1948 ', '2997 ', '2489 ', '2499 ',\n",
       "       '2609 ', '2953 ', '1150 ', '1994 ', '1388 ', '1527 ', '2199 ',\n",
       "       '995 ', '2993 ', '1586 ', '1390 ', '909 ', '2393 ', '3198 ',\n",
       "       '1339 ', '2835 ', '2092 ', '1595 ', '2496 ', '1596 ', '1597 ',\n",
       "       '2596 ', '2148 ', '1299 ', '1590 ', '2231 ', '2694 ', '2200 ',\n",
       "       '1795 ', '1896 ', '1796 ', '1422 ', '1489 ', '2359 ', '2197 ',\n",
       "       '2999 ', '1781 ', '2650 ', '1343 ', '2446 ', '3498 ', '2198 ',\n",
       "       '2776 ', '1950 '], dtype=object)"
      ]
     },
     "execution_count": 20,
     "metadata": {},
     "output_type": "execute_result"
    }
   ],
   "source": [
    "# Remove 'CC' from the 'engine' column\n",
    "df_eda['engine'] = df_eda['engine'].str.replace('CC', '', regex=True)\n",
    "df_eda[\"engine\"].unique() "
   ]
  },
  {
   "cell_type": "code",
   "execution_count": 21,
   "metadata": {},
   "outputs": [
    {
     "data": {
      "text/plain": [
       "dtype('float64')"
      ]
     },
     "execution_count": 21,
     "metadata": {},
     "output_type": "execute_result"
    }
   ],
   "source": [
    "# Convert things in 'engine' column into numeric & Nothing into NaN (Not a Number)\n",
    "df_eda['engine'] = pd.to_numeric(df_eda['engine'], errors='coerce')\n",
    "df_eda[\"engine\"].dtype"
   ]
  },
  {
   "cell_type": "markdown",
   "metadata": {},
   "source": [
    "## max_power column (Remove unit and Change to numberic)"
   ]
  },
  {
   "cell_type": "code",
   "execution_count": 22,
   "metadata": {},
   "outputs": [
    {
     "data": {
      "text/plain": [
       "array(['74 bhp', '103.52 bhp', '78 bhp', '90 bhp', '88.2 bhp',\n",
       "       '81.86 bhp', '37 bhp', '67.1 bhp', '68.1 bhp', '108.45 bhp',\n",
       "       '60 bhp', '73.9 bhp', nan, '67 bhp', '82 bhp', '88.5 bhp',\n",
       "       '46.3 bhp', '88.73 bhp', '64.1 bhp', '98.6 bhp', '88.8 bhp',\n",
       "       '83.81 bhp', '83.1 bhp', '47.3 bhp', '73.8 bhp', '34.2 bhp',\n",
       "       '35 bhp', '81.83 bhp', '121.3 bhp', '138.03 bhp', '160.77 bhp',\n",
       "       '117.3 bhp', '116.3 bhp', '83.14 bhp', '67.05 bhp', '168.5 bhp',\n",
       "       '100 bhp', '120.7 bhp', '98.63 bhp', '175.56 bhp', '103.25 bhp',\n",
       "       '171.5 bhp', '100.6 bhp', '174.33 bhp', '187.74 bhp', '170 bhp',\n",
       "       '78.9 bhp', '88.76 bhp', '86.8 bhp', '108.495 bhp', '108.62 bhp',\n",
       "       '93.7 bhp', '103.6 bhp', '98.59 bhp', '189 bhp', '67.04 bhp',\n",
       "       '68.05 bhp', '82.85 bhp', '81.80 bhp', '73 bhp', '120 bhp',\n",
       "       '94.68 bhp', '160 bhp', '65 bhp', '155 bhp', '69.01 bhp',\n",
       "       '126.32 bhp', '138.1 bhp', '83.8 bhp', '126.2 bhp', '98.96 bhp',\n",
       "       '62.1 bhp', '86.7 bhp', '188 bhp', '214.56 bhp', '177 bhp',\n",
       "       '280 bhp', '148.31 bhp', '254.79 bhp', '190 bhp', '177.46 bhp',\n",
       "       '204 bhp', '141 bhp', '117.6 bhp', '241.4 bhp', '282 bhp',\n",
       "       '150 bhp', '147.5 bhp', '108.5 bhp', '103.5 bhp', '183 bhp',\n",
       "       '181.04 bhp', '157.7 bhp', '164.7 bhp', '91.1 bhp', '400 bhp',\n",
       "       '68 bhp', '75 bhp', '85.8 bhp', '87.2 bhp', '53 bhp', '118 bhp',\n",
       "       '103.2 bhp', '83 bhp', '84 bhp', '147.94 bhp', '74.02 bhp',\n",
       "       '53.3 bhp', '80 bhp', '88.7 bhp', '97.7 bhp', '121.36 bhp',\n",
       "       '162 bhp', '140 bhp', '94 bhp', '100.57 bhp', '82.9 bhp',\n",
       "       '83.11 bhp', '70 bhp', '153.86 bhp', '121 bhp', '126.3 bhp',\n",
       "       '73.97 bhp', '171 bhp', '69 bhp', '99.6 bhp', '102 bhp', '105 bhp',\n",
       "       '63 bhp', '79.4 bhp', '97.9 bhp', '63.1 bhp', '66.1 bhp',\n",
       "       '110 bhp', '174.5 bhp', '53.26 bhp', '73.75 bhp', '67.06 bhp',\n",
       "       '64.08 bhp', '37.5 bhp', '189.3 bhp', '158.8 bhp', '55.2 bhp',\n",
       "       '71.01 bhp', '73.74 bhp', '147.9 bhp', '71 bhp', '77 bhp',\n",
       "       '121.4 bhp', '113.4 bhp', '47 bhp', '130 bhp', '57.6 bhp',\n",
       "       '138 bhp', '52.8 bhp', '53.64 bhp', '53.5 bhp', '76.8 bhp',\n",
       "       '82.4 bhp', '113.42 bhp', '76 bhp', '84.8 bhp', '0', '56.3 bhp',\n",
       "       '218 bhp', '112 bhp', '92 bhp', '105.5 bhp', '169 bhp', '95 bhp',\n",
       "       '72.4 bhp', '115 bhp', '152 bhp', '91.2 bhp', '156 bhp',\n",
       "       '74.9 bhp', '62 bhp', '105.3 bhp', '73.94 bhp', '85.80 bhp',\n",
       "       '85 bhp', '118.3 bhp', '72 bhp', '147.51 bhp', '58 bhp', '64 bhp',\n",
       "       '126.24 bhp', '76.9 bhp', '194.3 bhp', '99.23 bhp', '89.84 bhp',\n",
       "       '123.7 bhp', '118.35 bhp', '99 bhp', '241 bhp', '136 bhp',\n",
       "       '261.4 bhp', '104.68 bhp', '37.48 bhp', '104 bhp', '88.50 bhp',\n",
       "       '63.12 bhp', '91.7 bhp', '102.5 bhp', '177.6 bhp', '45 bhp',\n",
       "       '123.37 bhp', '147.8 bhp', '184 bhp', '84.48 bhp', '68.07 bhp',\n",
       "       '74.96 bhp', '167.6 bhp', '152.87 bhp', '112.2 bhp', '83.83 bhp',\n",
       "       '197 bhp', '110.4 bhp', '104.55 bhp', '103 bhp', '103.3 bhp',\n",
       "       '66 bhp', '108.6 bhp', '165 bhp', '163.7 bhp', '116.9 bhp',\n",
       "       '94.93 bhp', '127 bhp', '198.5 bhp', '179.5 bhp', '120.69 bhp',\n",
       "       '121.31 bhp', '138.08 bhp', '187.7 bhp', '80.8 bhp', '86.79 bhp',\n",
       "       '93.87 bhp', '116.6 bhp', '143 bhp', '92.7 bhp', '88 bhp',\n",
       "       '78.8 bhp', '64.4 bhp', '125 bhp', '139.01 bhp', '254.8 bhp',\n",
       "       '181 bhp', '258 bhp', '270.9 bhp', '265 bhp', '157.75 bhp',\n",
       "       '101 bhp', '186 bhp', '187.4 bhp', '224 bhp', '64.9 bhp',\n",
       "       '148 bhp', '35.5 bhp', '89.75 bhp', '91.72 bhp', '106 bhp',\n",
       "       '98.97 bhp', '66.6 bhp', '86 bhp', '65.3 bhp', '98.82 bhp',\n",
       "       '198.25 bhp', '38 bhp', '142 bhp', '132 bhp', '174.57 bhp',\n",
       "       '178 bhp', '163.2 bhp', '203.2 bhp', '177.5 bhp', '175 bhp',\n",
       "       '57 bhp', '80.84 bhp', '68.4 bhp', '167.67 bhp', '170.63 bhp',\n",
       "       '52 bhp', '149.5 bhp', '48.21 bhp', '201.1 bhp', '100.5 bhp',\n",
       "       '144 bhp', '194.4 bhp', '168.7 bhp', '104.5 bhp', '103.26 bhp',\n",
       "       '116.4 bhp', '98.79 bhp', '272 bhp', '235 bhp', '167.62 bhp',\n",
       "       '170.30 bhp', '139.46 bhp', '158 bhp', '110.5 bhp', '82.5 bhp',\n",
       "       '141.1 bhp', '197.2 bhp', '161 bhp', '194 bhp', '122.4 bhp',\n",
       "       '134.10 bhp', '134 bhp', '203 bhp', '135.1 bhp'], dtype=object)"
      ]
     },
     "execution_count": 22,
     "metadata": {},
     "output_type": "execute_result"
    }
   ],
   "source": [
    "df_eda[\"max_power\"].unique() "
   ]
  },
  {
   "cell_type": "code",
   "execution_count": 23,
   "metadata": {},
   "outputs": [
    {
     "data": {
      "text/plain": [
       "array(['74 ', '103.52 ', '78 ', '90 ', '88.2 ', '81.86 ', '37 ', '67.1 ',\n",
       "       '68.1 ', '108.45 ', '60 ', '73.9 ', nan, '67 ', '82 ', '88.5 ',\n",
       "       '46.3 ', '88.73 ', '64.1 ', '98.6 ', '88.8 ', '83.81 ', '83.1 ',\n",
       "       '47.3 ', '73.8 ', '34.2 ', '35 ', '81.83 ', '121.3 ', '138.03 ',\n",
       "       '160.77 ', '117.3 ', '116.3 ', '83.14 ', '67.05 ', '168.5 ',\n",
       "       '100 ', '120.7 ', '98.63 ', '175.56 ', '103.25 ', '171.5 ',\n",
       "       '100.6 ', '174.33 ', '187.74 ', '170 ', '78.9 ', '88.76 ', '86.8 ',\n",
       "       '108.495 ', '108.62 ', '93.7 ', '103.6 ', '98.59 ', '189 ',\n",
       "       '67.04 ', '68.05 ', '82.85 ', '81.80 ', '73 ', '120 ', '94.68 ',\n",
       "       '160 ', '65 ', '155 ', '69.01 ', '126.32 ', '138.1 ', '83.8 ',\n",
       "       '126.2 ', '98.96 ', '62.1 ', '86.7 ', '188 ', '214.56 ', '177 ',\n",
       "       '280 ', '148.31 ', '254.79 ', '190 ', '177.46 ', '204 ', '141 ',\n",
       "       '117.6 ', '241.4 ', '282 ', '150 ', '147.5 ', '108.5 ', '103.5 ',\n",
       "       '183 ', '181.04 ', '157.7 ', '164.7 ', '91.1 ', '400 ', '68 ',\n",
       "       '75 ', '85.8 ', '87.2 ', '53 ', '118 ', '103.2 ', '83 ', '84 ',\n",
       "       '147.94 ', '74.02 ', '53.3 ', '80 ', '88.7 ', '97.7 ', '121.36 ',\n",
       "       '162 ', '140 ', '94 ', '100.57 ', '82.9 ', '83.11 ', '70 ',\n",
       "       '153.86 ', '121 ', '126.3 ', '73.97 ', '171 ', '69 ', '99.6 ',\n",
       "       '102 ', '105 ', '63 ', '79.4 ', '97.9 ', '63.1 ', '66.1 ', '110 ',\n",
       "       '174.5 ', '53.26 ', '73.75 ', '67.06 ', '64.08 ', '37.5 ',\n",
       "       '189.3 ', '158.8 ', '55.2 ', '71.01 ', '73.74 ', '147.9 ', '71 ',\n",
       "       '77 ', '121.4 ', '113.4 ', '47 ', '130 ', '57.6 ', '138 ', '52.8 ',\n",
       "       '53.64 ', '53.5 ', '76.8 ', '82.4 ', '113.42 ', '76 ', '84.8 ',\n",
       "       '0', '56.3 ', '218 ', '112 ', '92 ', '105.5 ', '169 ', '95 ',\n",
       "       '72.4 ', '115 ', '152 ', '91.2 ', '156 ', '74.9 ', '62 ', '105.3 ',\n",
       "       '73.94 ', '85.80 ', '85 ', '118.3 ', '72 ', '147.51 ', '58 ',\n",
       "       '64 ', '126.24 ', '76.9 ', '194.3 ', '99.23 ', '89.84 ', '123.7 ',\n",
       "       '118.35 ', '99 ', '241 ', '136 ', '261.4 ', '104.68 ', '37.48 ',\n",
       "       '104 ', '88.50 ', '63.12 ', '91.7 ', '102.5 ', '177.6 ', '45 ',\n",
       "       '123.37 ', '147.8 ', '184 ', '84.48 ', '68.07 ', '74.96 ',\n",
       "       '167.6 ', '152.87 ', '112.2 ', '83.83 ', '197 ', '110.4 ',\n",
       "       '104.55 ', '103 ', '103.3 ', '66 ', '108.6 ', '165 ', '163.7 ',\n",
       "       '116.9 ', '94.93 ', '127 ', '198.5 ', '179.5 ', '120.69 ',\n",
       "       '121.31 ', '138.08 ', '187.7 ', '80.8 ', '86.79 ', '93.87 ',\n",
       "       '116.6 ', '143 ', '92.7 ', '88 ', '78.8 ', '64.4 ', '125 ',\n",
       "       '139.01 ', '254.8 ', '181 ', '258 ', '270.9 ', '265 ', '157.75 ',\n",
       "       '101 ', '186 ', '187.4 ', '224 ', '64.9 ', '148 ', '35.5 ',\n",
       "       '89.75 ', '91.72 ', '106 ', '98.97 ', '66.6 ', '86 ', '65.3 ',\n",
       "       '98.82 ', '198.25 ', '38 ', '142 ', '132 ', '174.57 ', '178 ',\n",
       "       '163.2 ', '203.2 ', '177.5 ', '175 ', '57 ', '80.84 ', '68.4 ',\n",
       "       '167.67 ', '170.63 ', '52 ', '149.5 ', '48.21 ', '201.1 ',\n",
       "       '100.5 ', '144 ', '194.4 ', '168.7 ', '104.5 ', '103.26 ',\n",
       "       '116.4 ', '98.79 ', '272 ', '235 ', '167.62 ', '170.30 ',\n",
       "       '139.46 ', '158 ', '110.5 ', '82.5 ', '141.1 ', '197.2 ', '161 ',\n",
       "       '194 ', '122.4 ', '134.10 ', '134 ', '203 ', '135.1 '],\n",
       "      dtype=object)"
      ]
     },
     "execution_count": 23,
     "metadata": {},
     "output_type": "execute_result"
    }
   ],
   "source": [
    "# Remove 'bhp' from the 'max_power' column\n",
    "df_eda['max_power'] = df_eda['max_power'].str.replace('bhp', '', regex=True)\n",
    "df_eda[\"max_power\"].unique() "
   ]
  },
  {
   "cell_type": "code",
   "execution_count": 24,
   "metadata": {},
   "outputs": [
    {
     "data": {
      "text/plain": [
       "dtype('float64')"
      ]
     },
     "execution_count": 24,
     "metadata": {},
     "output_type": "execute_result"
    }
   ],
   "source": [
    "# Convert things in 'max_power' column into numeric & Nothing into NaN (Not a Number)\n",
    "df_eda['max_power'] = pd.to_numeric(df_eda['max_power'], errors='coerce')\n",
    "df_eda[\"max_power\"].dtype"
   ]
  },
  {
   "cell_type": "markdown",
   "metadata": {},
   "source": [
    "## Brand Column (Take only the first word and remove the rest)"
   ]
  },
  {
   "cell_type": "code",
   "execution_count": 25,
   "metadata": {},
   "outputs": [
    {
     "data": {
      "text/plain": [
       "brand\n",
       "Maruti Swift Dzire VDI          129\n",
       "Maruti Alto 800 LXI              82\n",
       "Maruti Alto LXi                  71\n",
       "BMW X4 M Sport X xDrive20d       62\n",
       "Maruti Swift VDI                 61\n",
       "                               ... \n",
       "Maruti Celerio ZXI AMT BSIV       1\n",
       "Chevrolet Cruze LT                1\n",
       "Ford Fiesta 1.4 Duratorq EXI      1\n",
       "Honda City ZXi AT                 1\n",
       "Hyundai i20 Sportz Diesel         1\n",
       "Name: count, Length: 2018, dtype: int64"
      ]
     },
     "execution_count": 25,
     "metadata": {},
     "output_type": "execute_result"
    }
   ],
   "source": [
    "df_eda['brand'].value_counts()"
   ]
  },
  {
   "cell_type": "code",
   "execution_count": 26,
   "metadata": {},
   "outputs": [
    {
     "data": {
      "text/plain": [
       "array(['Maruti', 'Skoda', 'Honda', 'Hyundai', 'Toyota', 'Ford', 'Renault',\n",
       "       'Mahindra', 'Tata', 'Chevrolet', 'Fiat', 'Datsun', 'Jeep',\n",
       "       'Mercedes-Benz', 'Mitsubishi', 'Audi', 'Volkswagen', 'BMW',\n",
       "       'Nissan', 'Lexus', 'Jaguar', 'Land', 'MG', 'Volvo', 'Daewoo',\n",
       "       'Kia', 'Force', 'Ambassador', 'Ashok', 'Isuzu', 'Opel', 'Peugeot'],\n",
       "      dtype=object)"
      ]
     },
     "execution_count": 26,
     "metadata": {},
     "output_type": "execute_result"
    }
   ],
   "source": [
    "df_eda['brand'] = df_eda['brand'].str.split().str[0]\n",
    "df_eda['brand'].unique() "
   ]
  },
  {
   "cell_type": "markdown",
   "metadata": {},
   "source": [
    "## Remove the torque column"
   ]
  },
  {
   "cell_type": "code",
   "execution_count": 27,
   "metadata": {},
   "outputs": [],
   "source": [
    "#Remove the colummn (Axis =1)\n",
    "df_eda.drop('torque', axis=1, inplace=True)"
   ]
  },
  {
   "cell_type": "code",
   "execution_count": 28,
   "metadata": {},
   "outputs": [
    {
     "data": {
      "text/plain": [
       "Index(['brand', 'year', 'selling_price', 'km_driven', 'fuel', 'seller_type',\n",
       "       'transmission', 'owner', 'mileage', 'engine', 'max_power', 'seats'],\n",
       "      dtype='object')"
      ]
     },
     "execution_count": 28,
     "metadata": {},
     "output_type": "execute_result"
    }
   ],
   "source": [
    "df_eda.columns"
   ]
  },
  {
   "cell_type": "markdown",
   "metadata": {},
   "source": [
    "## Remove the test drive car in the owner column"
   ]
  },
  {
   "cell_type": "code",
   "execution_count": 29,
   "metadata": {},
   "outputs": [
    {
     "data": {
      "text/plain": [
       "owner\n",
       "1    5238\n",
       "2    2073\n",
       "3     547\n",
       "4     170\n",
       "5       5\n",
       "Name: count, dtype: int64"
      ]
     },
     "execution_count": 29,
     "metadata": {},
     "output_type": "execute_result"
    }
   ],
   "source": [
    "df_eda['owner'].value_counts()"
   ]
  },
  {
   "cell_type": "code",
   "execution_count": 30,
   "metadata": {},
   "outputs": [
    {
     "data": {
      "text/plain": [
       "array([1, 2, 3, 4])"
      ]
     },
     "execution_count": 30,
     "metadata": {},
     "output_type": "execute_result"
    }
   ],
   "source": [
    "#Remove the test drive car (Already map it as 5)\n",
    "df_eda = df_eda[df_eda['owner'] != 5]\n",
    "df_eda['owner'].unique() \n"
   ]
  },
  {
   "cell_type": "code",
   "execution_count": 31,
   "metadata": {},
   "outputs": [
    {
     "data": {
      "text/plain": [
       "owner\n",
       "1    5238\n",
       "2    2073\n",
       "3     547\n",
       "4     170\n",
       "Name: count, dtype: int64"
      ]
     },
     "execution_count": 31,
     "metadata": {},
     "output_type": "execute_result"
    }
   ],
   "source": [
    "df_eda['owner'].value_counts()"
   ]
  },
  {
   "cell_type": "markdown",
   "metadata": {},
   "source": [
    "## Label encoding"
   ]
  },
  {
   "cell_type": "code",
   "execution_count": 32,
   "metadata": {},
   "outputs": [
    {
     "data": {
      "text/plain": [
       "brand             object\n",
       "year               int64\n",
       "selling_price      int64\n",
       "km_driven          int64\n",
       "fuel              object\n",
       "seller_type       object\n",
       "transmission      object\n",
       "owner              int64\n",
       "mileage          float64\n",
       "engine           float64\n",
       "max_power        float64\n",
       "seats            float64\n",
       "dtype: object"
      ]
     },
     "execution_count": 32,
     "metadata": {},
     "output_type": "execute_result"
    }
   ],
   "source": [
    "df_eda.dtypes"
   ]
  },
  {
   "cell_type": "markdown",
   "metadata": {},
   "source": [
    "### Group brand"
   ]
  },
  {
   "cell_type": "code",
   "execution_count": 33,
   "metadata": {},
   "outputs": [
    {
     "data": {
      "text/plain": [
       "array(['Maruti', 'Skoda', 'Honda', 'Hyundai', 'Toyota', 'Ford', 'Renault',\n",
       "       'Mahindra', 'Tata', 'Chevrolet', 'Fiat', 'Datsun', 'Jeep',\n",
       "       'Mercedes-Benz', 'Mitsubishi', 'Audi', 'Volkswagen', 'BMW',\n",
       "       'Nissan', 'Lexus', 'Jaguar', 'Land', 'MG', 'Volvo', 'Daewoo',\n",
       "       'Kia', 'Force', 'Ambassador', 'Ashok', 'Isuzu', 'Opel', 'Peugeot'],\n",
       "      dtype=object)"
      ]
     },
     "execution_count": 33,
     "metadata": {},
     "output_type": "execute_result"
    }
   ],
   "source": [
    "df_eda['brand'].unique()"
   ]
  },
  {
   "cell_type": "code",
   "execution_count": 34,
   "metadata": {},
   "outputs": [
    {
     "data": {
      "text/plain": [
       "array(['Mass-Market', 'Luxury'], dtype=object)"
      ]
     },
     "execution_count": 34,
     "metadata": {},
     "output_type": "execute_result"
    }
   ],
   "source": [
    "#Divide brand into 2 group (Luxury and Mass-Market)\n",
    "brand_groups = {\n",
    "    'Jeep': 'Luxury', 'Mercedes-Benz': 'Luxury', 'Audi': 'Luxury', 'Volkswagen': 'Luxury', \n",
    "    'BMW': 'Luxury', 'Lexus': 'Luxury', 'Jaguar': 'Luxury', 'Land': 'Luxury', 'Volvo': 'Luxury', \n",
    "    'Opel': 'Luxury',\n",
    "    'Maruti': 'Mass-Market', 'Skoda': 'Mass-Market', 'Honda': 'Mass-Market', 'Hyundai': 'Mass-Market', \n",
    "    'Toyota': 'Mass-Market', 'Ford': 'Mass-Market', 'Renault': 'Mass-Market', 'Mahindra': 'Mass-Market', \n",
    "    'Tata': 'Mass-Market', 'Chevrolet': 'Mass-Market', 'Fiat': 'Mass-Market', 'Datsun': 'Mass-Market', \n",
    "    'Mitsubishi': 'Mass-Market', 'Nissan': 'Mass-Market', 'MG': 'Mass-Market', 'Kia': 'Mass-Market',\n",
    "    'Force' : 'Mass-Market', 'Ambassador': 'Mass-Market', 'Ashok': 'Mass-Market',\n",
    "    'Daewoo': 'Mass-Market', 'Isuzu': 'Mass-Market', 'Peugeot': 'Mass-Market'}\n",
    "\n",
    "# Map brand names with their group\n",
    "df_eda['brand'] = df_eda['brand'].map(brand_groups)\n",
    "\n",
    "# Display the DataFrame\n",
    "df_eda['brand'].unique()"
   ]
  },
  {
   "cell_type": "code",
   "execution_count": 35,
   "metadata": {},
   "outputs": [
    {
     "data": {
      "text/plain": [
       "0       Mass-Market\n",
       "1       Mass-Market\n",
       "2       Mass-Market\n",
       "3       Mass-Market\n",
       "4       Mass-Market\n",
       "           ...     \n",
       "8123    Mass-Market\n",
       "8124    Mass-Market\n",
       "8125    Mass-Market\n",
       "8126    Mass-Market\n",
       "8127    Mass-Market\n",
       "Name: brand, Length: 8028, dtype: object"
      ]
     },
     "execution_count": 35,
     "metadata": {},
     "output_type": "execute_result"
    }
   ],
   "source": [
    "df_eda['brand']"
   ]
  },
  {
   "cell_type": "code",
   "execution_count": 36,
   "metadata": {},
   "outputs": [],
   "source": [
    "# Initialize LabelEncoders\n",
    "from sklearn.preprocessing import LabelEncoder\n",
    "le_brand = LabelEncoder()\n",
    "le_fuel = LabelEncoder()\n",
    "le_transmission = LabelEncoder()\n",
    "\n",
    "df_eda['brand'] = le_brand.fit_transform(df_eda['brand'])\n",
    "df_eda['fuel'] = le_fuel.fit_transform(df_eda['fuel'])\n",
    "df_eda['transmission'] = le_transmission.fit_transform(df_eda['transmission'])\n",
    "\n",
    "# Display the mappings for each column\n",
    "brand_mapping = dict(zip(le_brand.classes_, range(len(le_brand.classes_))))\n",
    "fuel_mapping = dict(zip(le_fuel.classes_, range(len(le_fuel.classes_))))\n",
    "transmission_mapping = dict(zip(le_transmission.classes_, range(len(le_transmission.classes_))))"
   ]
  },
  {
   "cell_type": "code",
   "execution_count": 37,
   "metadata": {},
   "outputs": [
    {
     "name": "stdout",
     "output_type": "stream",
     "text": [
      "Brand Mapping: {'Luxury': 0, 'Mass-Market': 1}\n",
      "Fuel Mapping: {'Diesel': 0, 'Petrol': 1}\n",
      "Transmission Mapping: {'Automatic': 0, 'Manual': 1}\n"
     ]
    }
   ],
   "source": [
    "#Print the mapping result\n",
    "print(\"Brand Mapping:\", brand_mapping)\n",
    "print(\"Fuel Mapping:\", fuel_mapping)\n",
    "print(\"Transmission Mapping:\", transmission_mapping)"
   ]
  },
  {
   "cell_type": "markdown",
   "metadata": {},
   "source": [
    "### One hot encoding"
   ]
  },
  {
   "cell_type": "code",
   "execution_count": 38,
   "metadata": {},
   "outputs": [
    {
     "data": {
      "text/plain": [
       "seller_type\n",
       "Individual          6673\n",
       "Dealer              1119\n",
       "Trustmark Dealer     236\n",
       "Name: count, dtype: int64"
      ]
     },
     "execution_count": 38,
     "metadata": {},
     "output_type": "execute_result"
    }
   ],
   "source": [
    "df_eda['seller_type'].value_counts()"
   ]
  },
  {
   "cell_type": "code",
   "execution_count": 39,
   "metadata": {},
   "outputs": [],
   "source": [
    "df_eda = pd.get_dummies(df_eda, columns=['seller_type'], drop_first=True)"
   ]
  },
  {
   "cell_type": "code",
   "execution_count": 40,
   "metadata": {},
   "outputs": [
    {
     "data": {
      "text/html": [
       "<div>\n",
       "<style scoped>\n",
       "    .dataframe tbody tr th:only-of-type {\n",
       "        vertical-align: middle;\n",
       "    }\n",
       "\n",
       "    .dataframe tbody tr th {\n",
       "        vertical-align: top;\n",
       "    }\n",
       "\n",
       "    .dataframe thead th {\n",
       "        text-align: right;\n",
       "    }\n",
       "</style>\n",
       "<table border=\"1\" class=\"dataframe\">\n",
       "  <thead>\n",
       "    <tr style=\"text-align: right;\">\n",
       "      <th></th>\n",
       "      <th>brand</th>\n",
       "      <th>year</th>\n",
       "      <th>selling_price</th>\n",
       "      <th>km_driven</th>\n",
       "      <th>fuel</th>\n",
       "      <th>transmission</th>\n",
       "      <th>owner</th>\n",
       "      <th>mileage</th>\n",
       "      <th>engine</th>\n",
       "      <th>max_power</th>\n",
       "      <th>seats</th>\n",
       "      <th>seller_type_Individual</th>\n",
       "      <th>seller_type_Trustmark Dealer</th>\n",
       "    </tr>\n",
       "  </thead>\n",
       "  <tbody>\n",
       "    <tr>\n",
       "      <th>0</th>\n",
       "      <td>1</td>\n",
       "      <td>2014</td>\n",
       "      <td>450000</td>\n",
       "      <td>145500</td>\n",
       "      <td>0</td>\n",
       "      <td>1</td>\n",
       "      <td>1</td>\n",
       "      <td>23.40</td>\n",
       "      <td>1248.0</td>\n",
       "      <td>74.00</td>\n",
       "      <td>5.0</td>\n",
       "      <td>True</td>\n",
       "      <td>False</td>\n",
       "    </tr>\n",
       "    <tr>\n",
       "      <th>1</th>\n",
       "      <td>1</td>\n",
       "      <td>2014</td>\n",
       "      <td>370000</td>\n",
       "      <td>120000</td>\n",
       "      <td>0</td>\n",
       "      <td>1</td>\n",
       "      <td>2</td>\n",
       "      <td>21.14</td>\n",
       "      <td>1498.0</td>\n",
       "      <td>103.52</td>\n",
       "      <td>5.0</td>\n",
       "      <td>True</td>\n",
       "      <td>False</td>\n",
       "    </tr>\n",
       "    <tr>\n",
       "      <th>2</th>\n",
       "      <td>1</td>\n",
       "      <td>2006</td>\n",
       "      <td>158000</td>\n",
       "      <td>140000</td>\n",
       "      <td>1</td>\n",
       "      <td>1</td>\n",
       "      <td>3</td>\n",
       "      <td>17.70</td>\n",
       "      <td>1497.0</td>\n",
       "      <td>78.00</td>\n",
       "      <td>5.0</td>\n",
       "      <td>True</td>\n",
       "      <td>False</td>\n",
       "    </tr>\n",
       "    <tr>\n",
       "      <th>3</th>\n",
       "      <td>1</td>\n",
       "      <td>2010</td>\n",
       "      <td>225000</td>\n",
       "      <td>127000</td>\n",
       "      <td>0</td>\n",
       "      <td>1</td>\n",
       "      <td>1</td>\n",
       "      <td>23.00</td>\n",
       "      <td>1396.0</td>\n",
       "      <td>90.00</td>\n",
       "      <td>5.0</td>\n",
       "      <td>True</td>\n",
       "      <td>False</td>\n",
       "    </tr>\n",
       "    <tr>\n",
       "      <th>4</th>\n",
       "      <td>1</td>\n",
       "      <td>2007</td>\n",
       "      <td>130000</td>\n",
       "      <td>120000</td>\n",
       "      <td>1</td>\n",
       "      <td>1</td>\n",
       "      <td>1</td>\n",
       "      <td>16.10</td>\n",
       "      <td>1298.0</td>\n",
       "      <td>88.20</td>\n",
       "      <td>5.0</td>\n",
       "      <td>True</td>\n",
       "      <td>False</td>\n",
       "    </tr>\n",
       "  </tbody>\n",
       "</table>\n",
       "</div>"
      ],
      "text/plain": [
       "   brand  year  selling_price  km_driven  fuel  transmission  owner  mileage  \\\n",
       "0      1  2014         450000     145500     0             1      1    23.40   \n",
       "1      1  2014         370000     120000     0             1      2    21.14   \n",
       "2      1  2006         158000     140000     1             1      3    17.70   \n",
       "3      1  2010         225000     127000     0             1      1    23.00   \n",
       "4      1  2007         130000     120000     1             1      1    16.10   \n",
       "\n",
       "   engine  max_power  seats  seller_type_Individual  \\\n",
       "0  1248.0      74.00    5.0                    True   \n",
       "1  1498.0     103.52    5.0                    True   \n",
       "2  1497.0      78.00    5.0                    True   \n",
       "3  1396.0      90.00    5.0                    True   \n",
       "4  1298.0      88.20    5.0                    True   \n",
       "\n",
       "   seller_type_Trustmark Dealer  \n",
       "0                         False  \n",
       "1                         False  \n",
       "2                         False  \n",
       "3                         False  \n",
       "4                         False  "
      ]
     },
     "execution_count": 40,
     "metadata": {},
     "output_type": "execute_result"
    }
   ],
   "source": [
    "df_eda.head()"
   ]
  },
  {
   "cell_type": "code",
   "execution_count": 41,
   "metadata": {},
   "outputs": [
    {
     "data": {
      "text/plain": [
       "array([1, 0])"
      ]
     },
     "execution_count": 41,
     "metadata": {},
     "output_type": "execute_result"
    }
   ],
   "source": [
    "df_eda['brand'].unique()"
   ]
  },
  {
   "cell_type": "code",
   "execution_count": 42,
   "metadata": {},
   "outputs": [
    {
     "name": "stdout",
     "output_type": "stream",
     "text": [
      "   brand  year  selling_price  km_driven  fuel  transmission  owner  mileage  \\\n",
      "0      1  2014         450000     145500     0             1      1    23.40   \n",
      "1      1  2014         370000     120000     0             1      2    21.14   \n",
      "2      1  2006         158000     140000     1             1      3    17.70   \n",
      "3      1  2010         225000     127000     0             1      1    23.00   \n",
      "4      1  2007         130000     120000     1             1      1    16.10   \n",
      "\n",
      "   engine  max_power  seats  seller_type_Individual  \\\n",
      "0  1248.0      74.00    5.0                       1   \n",
      "1  1498.0     103.52    5.0                       1   \n",
      "2  1497.0      78.00    5.0                       1   \n",
      "3  1396.0      90.00    5.0                       1   \n",
      "4  1298.0      88.20    5.0                       1   \n",
      "\n",
      "   seller_type_Trustmark Dealer  \n",
      "0                             0  \n",
      "1                             0  \n",
      "2                             0  \n",
      "3                             0  \n",
      "4                             0  \n"
     ]
    }
   ],
   "source": [
    "#Convert booolean to int in column seller_type\n",
    "df_eda['seller_type_Individual'] = df_eda['seller_type_Individual'].astype(int)\n",
    "df_eda['seller_type_Trustmark Dealer'] = df_eda['seller_type_Trustmark Dealer'].astype(int)\n",
    "\n",
    "# Check the DataFrame to confirm the change\n",
    "print(df_eda.head())"
   ]
  },
  {
   "cell_type": "code",
   "execution_count": 43,
   "metadata": {},
   "outputs": [
    {
     "data": {
      "text/html": [
       "<div>\n",
       "<style scoped>\n",
       "    .dataframe tbody tr th:only-of-type {\n",
       "        vertical-align: middle;\n",
       "    }\n",
       "\n",
       "    .dataframe tbody tr th {\n",
       "        vertical-align: top;\n",
       "    }\n",
       "\n",
       "    .dataframe thead th {\n",
       "        text-align: right;\n",
       "    }\n",
       "</style>\n",
       "<table border=\"1\" class=\"dataframe\">\n",
       "  <thead>\n",
       "    <tr style=\"text-align: right;\">\n",
       "      <th></th>\n",
       "      <th>brand</th>\n",
       "      <th>year</th>\n",
       "      <th>selling_price</th>\n",
       "      <th>km_driven</th>\n",
       "      <th>fuel</th>\n",
       "      <th>transmission</th>\n",
       "      <th>owner</th>\n",
       "      <th>mileage</th>\n",
       "      <th>engine</th>\n",
       "      <th>max_power</th>\n",
       "      <th>seats</th>\n",
       "      <th>seller_type_Individual</th>\n",
       "      <th>seller_type_Trustmark Dealer</th>\n",
       "    </tr>\n",
       "  </thead>\n",
       "  <tbody>\n",
       "    <tr>\n",
       "      <th>0</th>\n",
       "      <td>1</td>\n",
       "      <td>2014</td>\n",
       "      <td>450000</td>\n",
       "      <td>145500</td>\n",
       "      <td>0</td>\n",
       "      <td>1</td>\n",
       "      <td>1</td>\n",
       "      <td>23.40</td>\n",
       "      <td>1248.0</td>\n",
       "      <td>74.00</td>\n",
       "      <td>5.0</td>\n",
       "      <td>1</td>\n",
       "      <td>0</td>\n",
       "    </tr>\n",
       "    <tr>\n",
       "      <th>1</th>\n",
       "      <td>1</td>\n",
       "      <td>2014</td>\n",
       "      <td>370000</td>\n",
       "      <td>120000</td>\n",
       "      <td>0</td>\n",
       "      <td>1</td>\n",
       "      <td>2</td>\n",
       "      <td>21.14</td>\n",
       "      <td>1498.0</td>\n",
       "      <td>103.52</td>\n",
       "      <td>5.0</td>\n",
       "      <td>1</td>\n",
       "      <td>0</td>\n",
       "    </tr>\n",
       "    <tr>\n",
       "      <th>2</th>\n",
       "      <td>1</td>\n",
       "      <td>2006</td>\n",
       "      <td>158000</td>\n",
       "      <td>140000</td>\n",
       "      <td>1</td>\n",
       "      <td>1</td>\n",
       "      <td>3</td>\n",
       "      <td>17.70</td>\n",
       "      <td>1497.0</td>\n",
       "      <td>78.00</td>\n",
       "      <td>5.0</td>\n",
       "      <td>1</td>\n",
       "      <td>0</td>\n",
       "    </tr>\n",
       "    <tr>\n",
       "      <th>3</th>\n",
       "      <td>1</td>\n",
       "      <td>2010</td>\n",
       "      <td>225000</td>\n",
       "      <td>127000</td>\n",
       "      <td>0</td>\n",
       "      <td>1</td>\n",
       "      <td>1</td>\n",
       "      <td>23.00</td>\n",
       "      <td>1396.0</td>\n",
       "      <td>90.00</td>\n",
       "      <td>5.0</td>\n",
       "      <td>1</td>\n",
       "      <td>0</td>\n",
       "    </tr>\n",
       "    <tr>\n",
       "      <th>4</th>\n",
       "      <td>1</td>\n",
       "      <td>2007</td>\n",
       "      <td>130000</td>\n",
       "      <td>120000</td>\n",
       "      <td>1</td>\n",
       "      <td>1</td>\n",
       "      <td>1</td>\n",
       "      <td>16.10</td>\n",
       "      <td>1298.0</td>\n",
       "      <td>88.20</td>\n",
       "      <td>5.0</td>\n",
       "      <td>1</td>\n",
       "      <td>0</td>\n",
       "    </tr>\n",
       "    <tr>\n",
       "      <th>...</th>\n",
       "      <td>...</td>\n",
       "      <td>...</td>\n",
       "      <td>...</td>\n",
       "      <td>...</td>\n",
       "      <td>...</td>\n",
       "      <td>...</td>\n",
       "      <td>...</td>\n",
       "      <td>...</td>\n",
       "      <td>...</td>\n",
       "      <td>...</td>\n",
       "      <td>...</td>\n",
       "      <td>...</td>\n",
       "      <td>...</td>\n",
       "    </tr>\n",
       "    <tr>\n",
       "      <th>8123</th>\n",
       "      <td>1</td>\n",
       "      <td>2013</td>\n",
       "      <td>320000</td>\n",
       "      <td>110000</td>\n",
       "      <td>1</td>\n",
       "      <td>1</td>\n",
       "      <td>1</td>\n",
       "      <td>18.50</td>\n",
       "      <td>1197.0</td>\n",
       "      <td>82.85</td>\n",
       "      <td>5.0</td>\n",
       "      <td>1</td>\n",
       "      <td>0</td>\n",
       "    </tr>\n",
       "    <tr>\n",
       "      <th>8124</th>\n",
       "      <td>1</td>\n",
       "      <td>2007</td>\n",
       "      <td>135000</td>\n",
       "      <td>119000</td>\n",
       "      <td>0</td>\n",
       "      <td>1</td>\n",
       "      <td>4</td>\n",
       "      <td>16.80</td>\n",
       "      <td>1493.0</td>\n",
       "      <td>110.00</td>\n",
       "      <td>5.0</td>\n",
       "      <td>1</td>\n",
       "      <td>0</td>\n",
       "    </tr>\n",
       "    <tr>\n",
       "      <th>8125</th>\n",
       "      <td>1</td>\n",
       "      <td>2009</td>\n",
       "      <td>382000</td>\n",
       "      <td>120000</td>\n",
       "      <td>0</td>\n",
       "      <td>1</td>\n",
       "      <td>1</td>\n",
       "      <td>19.30</td>\n",
       "      <td>1248.0</td>\n",
       "      <td>73.90</td>\n",
       "      <td>5.0</td>\n",
       "      <td>1</td>\n",
       "      <td>0</td>\n",
       "    </tr>\n",
       "    <tr>\n",
       "      <th>8126</th>\n",
       "      <td>1</td>\n",
       "      <td>2013</td>\n",
       "      <td>290000</td>\n",
       "      <td>25000</td>\n",
       "      <td>0</td>\n",
       "      <td>1</td>\n",
       "      <td>1</td>\n",
       "      <td>23.57</td>\n",
       "      <td>1396.0</td>\n",
       "      <td>70.00</td>\n",
       "      <td>5.0</td>\n",
       "      <td>1</td>\n",
       "      <td>0</td>\n",
       "    </tr>\n",
       "    <tr>\n",
       "      <th>8127</th>\n",
       "      <td>1</td>\n",
       "      <td>2013</td>\n",
       "      <td>290000</td>\n",
       "      <td>25000</td>\n",
       "      <td>0</td>\n",
       "      <td>1</td>\n",
       "      <td>1</td>\n",
       "      <td>23.57</td>\n",
       "      <td>1396.0</td>\n",
       "      <td>70.00</td>\n",
       "      <td>5.0</td>\n",
       "      <td>1</td>\n",
       "      <td>0</td>\n",
       "    </tr>\n",
       "  </tbody>\n",
       "</table>\n",
       "<p>8028 rows × 13 columns</p>\n",
       "</div>"
      ],
      "text/plain": [
       "      brand  year  selling_price  km_driven  fuel  transmission  owner  \\\n",
       "0         1  2014         450000     145500     0             1      1   \n",
       "1         1  2014         370000     120000     0             1      2   \n",
       "2         1  2006         158000     140000     1             1      3   \n",
       "3         1  2010         225000     127000     0             1      1   \n",
       "4         1  2007         130000     120000     1             1      1   \n",
       "...     ...   ...            ...        ...   ...           ...    ...   \n",
       "8123      1  2013         320000     110000     1             1      1   \n",
       "8124      1  2007         135000     119000     0             1      4   \n",
       "8125      1  2009         382000     120000     0             1      1   \n",
       "8126      1  2013         290000      25000     0             1      1   \n",
       "8127      1  2013         290000      25000     0             1      1   \n",
       "\n",
       "      mileage  engine  max_power  seats  seller_type_Individual  \\\n",
       "0       23.40  1248.0      74.00    5.0                       1   \n",
       "1       21.14  1498.0     103.52    5.0                       1   \n",
       "2       17.70  1497.0      78.00    5.0                       1   \n",
       "3       23.00  1396.0      90.00    5.0                       1   \n",
       "4       16.10  1298.0      88.20    5.0                       1   \n",
       "...       ...     ...        ...    ...                     ...   \n",
       "8123    18.50  1197.0      82.85    5.0                       1   \n",
       "8124    16.80  1493.0     110.00    5.0                       1   \n",
       "8125    19.30  1248.0      73.90    5.0                       1   \n",
       "8126    23.57  1396.0      70.00    5.0                       1   \n",
       "8127    23.57  1396.0      70.00    5.0                       1   \n",
       "\n",
       "      seller_type_Trustmark Dealer  \n",
       "0                                0  \n",
       "1                                0  \n",
       "2                                0  \n",
       "3                                0  \n",
       "4                                0  \n",
       "...                            ...  \n",
       "8123                             0  \n",
       "8124                             0  \n",
       "8125                             0  \n",
       "8126                             0  \n",
       "8127                             0  \n",
       "\n",
       "[8028 rows x 13 columns]"
      ]
     },
     "execution_count": 43,
     "metadata": {},
     "output_type": "execute_result"
    }
   ],
   "source": [
    "pd.DataFrame(df_eda)"
   ]
  },
  {
   "cell_type": "markdown",
   "metadata": {},
   "source": [
    "## Univariate analysis"
   ]
  },
  {
   "cell_type": "code",
   "execution_count": 44,
   "metadata": {},
   "outputs": [
    {
     "data": {
      "text/plain": [
       "<Axes: xlabel='seats', ylabel='count'>"
      ]
     },
     "execution_count": 44,
     "metadata": {},
     "output_type": "execute_result"
    },
    {
     "data": {
      "image/png": "[encoded data removed]",
      "text/plain": [
       "<Figure size 640x480 with 1 Axes>"
      ]
     },
     "metadata": {},
     "output_type": "display_data"
    }
   ],
   "source": [
    "# Countplot - for the categorical -   most of the data is 5 seats car \n",
    "sns.countplot(data = df_eda, x = 'seats')"
   ]
  },
  {
   "cell_type": "code",
   "execution_count": 45,
   "metadata": {},
   "outputs": [
    {
     "data": {
      "text/plain": [
       "<seaborn.axisgrid.FacetGrid at 0x15b20dc52b0>"
      ]
     },
     "execution_count": 45,
     "metadata": {},
     "output_type": "execute_result"
    },
    {
     "data": {
      "image/png": "[encoded data removed]",
      "text/plain": [
       "<Figure size 500x500 with 1 Axes>"
      ]
     },
     "metadata": {},
     "output_type": "display_data"
    }
   ],
   "source": [
    "# Distribution plot - both categorical & continue\n",
    "sns.displot(data = df_eda, x = 'max_power')"
   ]
  },
  {
   "cell_type": "markdown",
   "metadata": {},
   "source": [
    "## Multivariate analysis"
   ]
  },
  {
   "cell_type": "code",
   "execution_count": 46,
   "metadata": {},
   "outputs": [
    {
     "data": {
      "text/plain": [
       "Text(0.5, 0, 'transmission')"
      ]
     },
     "execution_count": 46,
     "metadata": {},
     "output_type": "execute_result"
    },
    {
     "data": {
      "image/png": "[encoded data removed]",
      "text/plain": [
       "<Figure size 640x480 with 1 Axes>"
      ]
     },
     "metadata": {},
     "output_type": "display_data"
    }
   ],
   "source": [
    "#Boxplot - Car transmission type 1 more selling price than type 2\n",
    "sns.boxplot(x = df_eda[\"transmission\"], y = df_eda[\"selling_price\"]);\n",
    "plt.ylabel(\"selling_price\")\n",
    "plt.xlabel(\"transmission\")"
   ]
  },
  {
   "cell_type": "code",
   "execution_count": 47,
   "metadata": {},
   "outputs": [
    {
     "data": {
      "text/plain": [
       "<Axes: xlabel='year', ylabel='selling_price'>"
      ]
     },
     "execution_count": 47,
     "metadata": {},
     "output_type": "execute_result"
    },
    {
     "data": {
      "image/png": "[encoded data removed]",
      "text/plain": [
       "<Figure size 640x480 with 1 Axes>"
      ]
     },
     "metadata": {},
     "output_type": "display_data"
    }
   ],
   "source": [
    "#Scatterplot both transmission types have increased in selling prices over the years.But the cars with transmission type \"1\" mostly got higher prices compared to those with type \"0\"\n",
    "sns.scatterplot(x = df_eda['year'], y = df_eda['selling_price'], hue=df_eda['transmission'])"
   ]
  },
  {
   "cell_type": "markdown",
   "metadata": {},
   "source": [
    "## Heatmap"
   ]
  },
  {
   "cell_type": "markdown",
   "metadata": {},
   "source": [
    "This is the correlation matrix which use to finds the strong factor & checking whether certain feature are too correlated."
   ]
  },
  {
   "cell_type": "code",
   "execution_count": 48,
   "metadata": {},
   "outputs": [
    {
     "data": {
      "text/plain": [
       "<Axes: >"
      ]
     },
     "execution_count": 48,
     "metadata": {},
     "output_type": "execute_result"
    },
    {
     "data": {
      "image/png": "[encoded data removed]",
      "text/plain": [
       "<Figure size 1500x800 with 2 Axes>"
      ]
     },
     "metadata": {},
     "output_type": "display_data"
    }
   ],
   "source": [
    "plt.figure(figsize = (15,8))\n",
    "sns.heatmap(df_eda.corr(), annot=True, cmap=\"coolwarm\") "
   ]
  },
  {
   "cell_type": "markdown",
   "metadata": {},
   "source": [
    "# 3. Feature Engineering"
   ]
  },
  {
   "cell_type": "markdown",
   "metadata": {},
   "source": [
    "# 4.Feature Selection"
   ]
  },
  {
   "cell_type": "markdown",
   "metadata": {},
   "source": [
    "## Drop the feature that not relevance"
   ]
  },
  {
   "cell_type": "code",
   "execution_count": 49,
   "metadata": {},
   "outputs": [],
   "source": [
    "#drop column that not relevance (correlation number in heat map is too small)\n",
    "df_selected = df_eda.drop('seats', axis='columns')"
   ]
  },
  {
   "cell_type": "code",
   "execution_count": 50,
   "metadata": {},
   "outputs": [],
   "source": [
    "#Remove the feature that not effect the accuracy that much - look at part 8 (Do this after train)\n",
    "df_selected = df_eda.drop(['seller_type_Trustmark Dealer', 'transmission', 'seller_type_Individual', 'fuel', 'brand', 'owner' ], axis='columns')\n"
   ]
  },
  {
   "cell_type": "markdown",
   "metadata": {},
   "source": [
    "## Set x and y"
   ]
  },
  {
   "cell_type": "code",
   "execution_count": 51,
   "metadata": {},
   "outputs": [],
   "source": [
    "#x is our strong features - No seat \n",
    "X = df_selected[[ 'year', 'km_driven', 'mileage', 'engine', 'max_power']]\n",
    "\n",
    "#y is simply the selling_price\n",
    "y = np.log(df_selected['selling_price'])"
   ]
  },
  {
   "cell_type": "markdown",
   "metadata": {},
   "source": [
    "## Train test split"
   ]
  },
  {
   "cell_type": "code",
   "execution_count": 52,
   "metadata": {},
   "outputs": [],
   "source": [
    "#Train test split\n",
    "from sklearn.model_selection import train_test_split\n",
    "X_train, X_test, y_train, y_test = train_test_split(X, y, test_size = 0.3, random_state = 41)"
   ]
  },
  {
   "cell_type": "markdown",
   "metadata": {},
   "source": [
    "# 5. Preprocessing"
   ]
  },
  {
   "cell_type": "markdown",
   "metadata": {},
   "source": [
    "## Null value - filled training set & testing set seperatly  "
   ]
  },
  {
   "cell_type": "code",
   "execution_count": null,
   "metadata": {},
   "outputs": [],
   "source": []
  },
  {
   "cell_type": "code",
   "execution_count": 53,
   "metadata": {},
   "outputs": [
    {
     "data": {
      "text/plain": [
       "<seaborn.axisgrid.FacetGrid at 0x15b245cce50>"
      ]
     },
     "execution_count": 53,
     "metadata": {},
     "output_type": "execute_result"
    },
    {
     "data": {
      "image/png": "[encoded data removed]",
      "text/plain": [
       "<Figure size 500x500 with 1 Axes>"
      ]
     },
     "metadata": {},
     "output_type": "display_data"
    }
   ],
   "source": [
    "sns.displot(X.year)"
   ]
  },
  {
   "cell_type": "code",
   "execution_count": 54,
   "metadata": {},
   "outputs": [
    {
     "data": {
      "text/plain": [
       "year           0\n",
       "km_driven      0\n",
       "mileage      214\n",
       "engine       214\n",
       "max_power    208\n",
       "dtype: int64"
      ]
     },
     "execution_count": 54,
     "metadata": {},
     "output_type": "execute_result"
    }
   ],
   "source": [
    "#Check for null value - for selected feature\n",
    "X.isnull().sum()   "
   ]
  },
  {
   "cell_type": "code",
   "execution_count": 55,
   "metadata": {},
   "outputs": [
    {
     "data": {
      "text/plain": [
       "year           int64\n",
       "km_driven      int64\n",
       "mileage      float64\n",
       "engine       float64\n",
       "max_power    float64\n",
       "dtype: object"
      ]
     },
     "execution_count": 55,
     "metadata": {},
     "output_type": "execute_result"
    }
   ],
   "source": [
    "X.dtypes"
   ]
  },
  {
   "cell_type": "markdown",
   "metadata": {},
   "source": [
    "Fill the missing mileage data"
   ]
  },
  {
   "cell_type": "code",
   "execution_count": 56,
   "metadata": {},
   "outputs": [
    {
     "data": {
      "text/plain": [
       "<seaborn.axisgrid.FacetGrid at 0x15b07395250>"
      ]
     },
     "execution_count": 56,
     "metadata": {},
     "output_type": "execute_result"
    },
    {
     "data": {
      "image/png": "[encoded data removed]",
      "text/plain": [
       "<Figure size 500x500 with 1 Axes>"
      ]
     },
     "metadata": {},
     "output_type": "display_data"
    }
   ],
   "source": [
    "sns.displot(X.mileage)"
   ]
  },
  {
   "cell_type": "code",
   "execution_count": 57,
   "metadata": {},
   "outputs": [
    {
     "name": "stderr",
     "output_type": "stream",
     "text": [
      "C:\\Users\\Aimmy\\AppData\\Local\\Temp\\ipykernel_27424\\2250035120.py:2: FutureWarning: A value is trying to be set on a copy of a DataFrame or Series through chained assignment using an inplace method.\n",
      "The behavior will change in pandas 3.0. This inplace method will never work because the intermediate object on which we are setting values always behaves as a copy.\n",
      "\n",
      "For example, when doing 'df[col].method(value, inplace=True)', try using 'df.method({col: value}, inplace=True)' or df[col] = df[col].method(value) instead, to perform the operation inplace on the original object.\n",
      "\n",
      "\n",
      "  X_train['mileage'].fillna(X_train['mileage'].mean(), inplace=True)\n",
      "C:\\Users\\Aimmy\\AppData\\Local\\Temp\\ipykernel_27424\\2250035120.py:5: FutureWarning: A value is trying to be set on a copy of a DataFrame or Series through chained assignment using an inplace method.\n",
      "The behavior will change in pandas 3.0. This inplace method will never work because the intermediate object on which we are setting values always behaves as a copy.\n",
      "\n",
      "For example, when doing 'df[col].method(value, inplace=True)', try using 'df.method({col: value}, inplace=True)' or df[col] = df[col].method(value) instead, to perform the operation inplace on the original object.\n",
      "\n",
      "\n",
      "  X_test['mileage'].fillna(X_train['mileage'].mean(), inplace=True)\n"
     ]
    }
   ],
   "source": [
    "#mileage data is normal >> fill the null with mean\n",
    "X_train['mileage'].fillna(X_train['mileage'].mean(), inplace=True)\n",
    "\n",
    "#Fill the testing set with the training distribution\n",
    "X_test['mileage'].fillna(X_train['mileage'].mean(), inplace=True)"
   ]
  },
  {
   "cell_type": "markdown",
   "metadata": {},
   "source": [
    "Fill the missing engine data"
   ]
  },
  {
   "cell_type": "code",
   "execution_count": 58,
   "metadata": {},
   "outputs": [
    {
     "data": {
      "text/plain": [
       "<seaborn.axisgrid.FacetGrid at 0x15b245d5f40>"
      ]
     },
     "execution_count": 58,
     "metadata": {},
     "output_type": "execute_result"
    },
    {
     "data": {
      "image/png": "[encoded data removed]",
      "text/plain": [
       "<Figure size 500x500 with 1 Axes>"
      ]
     },
     "metadata": {},
     "output_type": "display_data"
    }
   ],
   "source": [
    "sns.displot(X.engine)"
   ]
  },
  {
   "cell_type": "code",
   "execution_count": 59,
   "metadata": {},
   "outputs": [
    {
     "name": "stderr",
     "output_type": "stream",
     "text": [
      "C:\\Users\\Aimmy\\AppData\\Local\\Temp\\ipykernel_27424\\1782278693.py:2: FutureWarning: A value is trying to be set on a copy of a DataFrame or Series through chained assignment using an inplace method.\n",
      "The behavior will change in pandas 3.0. This inplace method will never work because the intermediate object on which we are setting values always behaves as a copy.\n",
      "\n",
      "For example, when doing 'df[col].method(value, inplace=True)', try using 'df.method({col: value}, inplace=True)' or df[col] = df[col].method(value) instead, to perform the operation inplace on the original object.\n",
      "\n",
      "\n",
      "  X_train['engine'].fillna(X_train['engine'].median(), inplace=True)\n",
      "C:\\Users\\Aimmy\\AppData\\Local\\Temp\\ipykernel_27424\\1782278693.py:5: FutureWarning: A value is trying to be set on a copy of a DataFrame or Series through chained assignment using an inplace method.\n",
      "The behavior will change in pandas 3.0. This inplace method will never work because the intermediate object on which we are setting values always behaves as a copy.\n",
      "\n",
      "For example, when doing 'df[col].method(value, inplace=True)', try using 'df.method({col: value}, inplace=True)' or df[col] = df[col].method(value) instead, to perform the operation inplace on the original object.\n",
      "\n",
      "\n",
      "  X_test['engine'].fillna(X_train['engine'].median(), inplace=True)\n"
     ]
    }
   ],
   "source": [
    "#engine data is not normal >> fill the null value with \n",
    "X_train['engine'].fillna(X_train['engine'].median(), inplace=True)\n",
    "\n",
    "#Fill the testing set with the training distribution\n",
    "X_test['engine'].fillna(X_train['engine'].median(), inplace=True)"
   ]
  },
  {
   "cell_type": "markdown",
   "metadata": {},
   "source": [
    "Fill the missing max_power data"
   ]
  },
  {
   "cell_type": "code",
   "execution_count": 60,
   "metadata": {},
   "outputs": [
    {
     "data": {
      "text/plain": [
       "<seaborn.axisgrid.FacetGrid at 0x15b07380760>"
      ]
     },
     "execution_count": 60,
     "metadata": {},
     "output_type": "execute_result"
    },
    {
     "data": {
      "image/png": "[encoded data removed]",
      "text/plain": [
       "<Figure size 500x500 with 1 Axes>"
      ]
     },
     "metadata": {},
     "output_type": "display_data"
    }
   ],
   "source": [
    "sns.displot(X.max_power)"
   ]
  },
  {
   "cell_type": "code",
   "execution_count": 61,
   "metadata": {},
   "outputs": [
    {
     "name": "stderr",
     "output_type": "stream",
     "text": [
      "C:\\Users\\Aimmy\\AppData\\Local\\Temp\\ipykernel_27424\\4191762362.py:2: FutureWarning: A value is trying to be set on a copy of a DataFrame or Series through chained assignment using an inplace method.\n",
      "The behavior will change in pandas 3.0. This inplace method will never work because the intermediate object on which we are setting values always behaves as a copy.\n",
      "\n",
      "For example, when doing 'df[col].method(value, inplace=True)', try using 'df.method({col: value}, inplace=True)' or df[col] = df[col].method(value) instead, to perform the operation inplace on the original object.\n",
      "\n",
      "\n",
      "  X_train['max_power'].fillna(X_train['max_power'].median(), inplace=True)\n",
      "C:\\Users\\Aimmy\\AppData\\Local\\Temp\\ipykernel_27424\\4191762362.py:5: FutureWarning: A value is trying to be set on a copy of a DataFrame or Series through chained assignment using an inplace method.\n",
      "The behavior will change in pandas 3.0. This inplace method will never work because the intermediate object on which we are setting values always behaves as a copy.\n",
      "\n",
      "For example, when doing 'df[col].method(value, inplace=True)', try using 'df.method({col: value}, inplace=True)' or df[col] = df[col].method(value) instead, to perform the operation inplace on the original object.\n",
      "\n",
      "\n",
      "  X_test['max_power'].fillna(X_train['max_power'].median(), inplace=True)\n"
     ]
    }
   ],
   "source": [
    "#max_power is not normal >> fill the null valuwe with \n",
    "X_train['max_power'].fillna(X_train['max_power'].median(), inplace=True)\n",
    "\n",
    "#Fill the testing set with the training distribution\n",
    "X_test['max_power'].fillna(X_train['max_power'].median(), inplace=True)"
   ]
  },
  {
   "cell_type": "code",
   "execution_count": 62,
   "metadata": {},
   "outputs": [
    {
     "data": {
      "text/plain": [
       "year         0\n",
       "km_driven    0\n",
       "mileage      0\n",
       "engine       0\n",
       "max_power    0\n",
       "dtype: int64"
      ]
     },
     "execution_count": 62,
     "metadata": {},
     "output_type": "execute_result"
    }
   ],
   "source": [
    "X_test.isnull().sum()   #Check for null value again"
   ]
  },
  {
   "cell_type": "code",
   "execution_count": 63,
   "metadata": {},
   "outputs": [
    {
     "data": {
      "text/plain": [
       "year         0\n",
       "km_driven    0\n",
       "mileage      0\n",
       "engine       0\n",
       "max_power    0\n",
       "dtype: int64"
      ]
     },
     "execution_count": 63,
     "metadata": {},
     "output_type": "execute_result"
    }
   ],
   "source": [
    "X_train.isnull().sum()   #Check for null value again"
   ]
  },
  {
   "cell_type": "code",
   "execution_count": 64,
   "metadata": {},
   "outputs": [
    {
     "data": {
      "text/plain": [
       "(np.int64(0), np.int64(0))"
      ]
     },
     "execution_count": 64,
     "metadata": {},
     "output_type": "execute_result"
    }
   ],
   "source": [
    "#Check null value for y\n",
    "y_train.isnull().sum(), y_test.isnull().sum()"
   ]
  },
  {
   "cell_type": "markdown",
   "metadata": {},
   "source": [
    "## outlier"
   ]
  },
  {
   "cell_type": "code",
   "execution_count": 65,
   "metadata": {},
   "outputs": [
    {
     "data": {
      "image/png": "[encoded data removed]",
      "text/plain": [
       "<Figure size 2000x3000 with 5 Axes>"
      ]
     },
     "metadata": {},
     "output_type": "display_data"
    }
   ],
   "source": [
    "# Create a dictionary of columns.\n",
    "col_dict = {'year':1, 'km_driven':2, 'mileage':3, 'engine':4, 'max_power':5}\n",
    "\n",
    "# Detect outliers in each variable using box plots.\n",
    "plt.figure(figsize=(20,30))\n",
    "\n",
    "for variable,i in col_dict.items():\n",
    "                     plt.subplot(5,3,i)\n",
    "                     plt.boxplot(X_train[variable])\n",
    "                     plt.title(variable)\n",
    "\n",
    "plt.show()"
   ]
  },
  {
   "cell_type": "code",
   "execution_count": 66,
   "metadata": {},
   "outputs": [],
   "source": [
    "def outlier_count(col, data = X_train):\n",
    "    \n",
    "    # calculate your 25% quatile and 75% quatile\n",
    "    q75, q25 = np.percentile(data[col], [75, 25])\n",
    "    \n",
    "    # calculate your inter quatile\n",
    "    iqr = q75 - q25\n",
    "    \n",
    "    # min_val and max_val\n",
    "    min_val = q25 - (iqr*1.5)\n",
    "    max_val = q75 + (iqr*1.5)\n",
    "    \n",
    "    # count number of outliers, which are the data that are less than min_val or more than max_val calculated above\n",
    "    outlier_count = len(np.where((data[col] > max_val) | (data[col] < min_val))[0])\n",
    "    \n",
    "    # calculate the percentage of the outliers\n",
    "    outlier_percent = round(outlier_count/len(data[col])*100, 2)\n",
    "    \n",
    "    if(outlier_count > 0):\n",
    "        print(\"\\n\"+15*'-' + col + 15*'-'+\"\\n\")\n",
    "        print('Number of outliers: {}'.format(outlier_count))\n",
    "        print('Percent of data that is outlier: {}%'.format(outlier_percent))"
   ]
  },
  {
   "cell_type": "code",
   "execution_count": 67,
   "metadata": {},
   "outputs": [
    {
     "name": "stdout",
     "output_type": "stream",
     "text": [
      "\n",
      "---------------year---------------\n",
      "\n",
      "Number of outliers: 55\n",
      "Percent of data that is outlier: 0.98%\n",
      "\n",
      "---------------km_driven---------------\n",
      "\n",
      "Number of outliers: 107\n",
      "Percent of data that is outlier: 1.9%\n",
      "\n",
      "---------------mileage---------------\n",
      "\n",
      "Number of outliers: 10\n",
      "Percent of data that is outlier: 0.18%\n",
      "\n",
      "---------------engine---------------\n",
      "\n",
      "Number of outliers: 804\n",
      "Percent of data that is outlier: 14.31%\n",
      "\n",
      "---------------max_power---------------\n",
      "\n",
      "Number of outliers: 411\n",
      "Percent of data that is outlier: 7.31%\n"
     ]
    }
   ],
   "source": [
    "for col in X_train.columns:\n",
    "    outlier_count(col)"
   ]
  },
  {
   "cell_type": "markdown",
   "metadata": {},
   "source": [
    "## Scaling - helps improve reach convergence faster"
   ]
  },
  {
   "cell_type": "code",
   "execution_count": 68,
   "metadata": {},
   "outputs": [],
   "source": [
    "from sklearn.preprocessing import StandardScaler\n",
    "\n",
    "scaler = StandardScaler()\n",
    "X_train = scaler.fit_transform(X_train)\n",
    "X_test  = scaler.transform(X_test)"
   ]
  },
  {
   "cell_type": "code",
   "execution_count": 69,
   "metadata": {},
   "outputs": [
    {
     "name": "stdout",
     "output_type": "stream",
     "text": [
      "Shape of X_train:  (5619, 5)\n",
      "Shape of X_test:  (2409, 5)\n",
      "Shape of y_train:  (5619,)\n",
      "Shape of y_test:  (2409,)\n"
     ]
    }
   ],
   "source": [
    "# Check shapes of all X_train, X_test, y_train, y_test\n",
    "print(\"Shape of X_train: \", X_train.shape)\n",
    "print(\"Shape of X_test: \", X_test.shape)\n",
    "print(\"Shape of y_train: \", y_train.shape)\n",
    "print(\"Shape of y_test: \", y_test.shape)"
   ]
  },
  {
   "cell_type": "markdown",
   "metadata": {},
   "source": [
    "# 6. Modeling"
   ]
  },
  {
   "cell_type": "markdown",
   "metadata": {},
   "source": [
    "### 6.1 Check shape of x & y"
   ]
  },
  {
   "cell_type": "code",
   "execution_count": 70,
   "metadata": {},
   "outputs": [
    {
     "name": "stdout",
     "output_type": "stream",
     "text": [
      "MSE:  0.10007026405466671\n",
      "r2:  0.8531756546181197\n"
     ]
    }
   ],
   "source": [
    "#check MSE & r2\n",
    "from sklearn.linear_model import LinearRegression #we are using regression models\n",
    "from sklearn.metrics import mean_squared_error, r2_score\n",
    "\n",
    "lr = LinearRegression()\n",
    "lr.fit(X_train, y_train)\n",
    "yhat = lr.predict(X_test)\n",
    "\n",
    "print(\"MSE: \", mean_squared_error(y_test, yhat))\n",
    "print(\"r2: \", r2_score(y_test, yhat))"
   ]
  },
  {
   "cell_type": "markdown",
   "metadata": {},
   "source": [
    "### 6.2 Cross validation+ Grid search"
   ]
  },
  {
   "cell_type": "markdown",
   "metadata": {},
   "source": [
    "#### Cross validation"
   ]
  },
  {
   "cell_type": "code",
   "execution_count": 71,
   "metadata": {},
   "outputs": [],
   "source": [
    "from sklearn.linear_model import LinearRegression  #using regression models\n",
    "from sklearn.svm import SVR\n",
    "from sklearn.neighbors import KNeighborsRegressor\n",
    "from sklearn.tree import DecisionTreeRegressor\n",
    "from sklearn.ensemble import RandomForestRegressor\n",
    "\n",
    "# models that we will be using, put them in a list\n",
    "algorithms = [LinearRegression(), SVR(), KNeighborsRegressor(), DecisionTreeRegressor(random_state = 0), \n",
    "              RandomForestRegressor(n_estimators = 100, random_state = 0)]\n",
    "\n",
    "# The names of the models\n",
    "algorithm_names = [\"Linear Regression\", \"SVR\", \"KNeighbors Regressor\", \"Decision-Tree Regressor\", \"Random-Forest Regressor\"]"
   ]
  },
  {
   "cell_type": "code",
   "execution_count": 72,
   "metadata": {},
   "outputs": [
    {
     "data": {
      "text/plain": [
       "np.int64(0)"
      ]
     },
     "execution_count": 72,
     "metadata": {},
     "output_type": "execute_result"
    }
   ],
   "source": [
    "y_train.isna().sum()"
   ]
  },
  {
   "cell_type": "code",
   "execution_count": 73,
   "metadata": {},
   "outputs": [
    {
     "name": "stdout",
     "output_type": "stream",
     "text": [
      "Linear Regression - Score: [-0.12151313 -0.10237725 -0.10471842 -0.10115674 -0.10334402]; Mean: -0.10662190894043704\n",
      "SVR - Score: [-0.06906417 -0.08274514 -0.07577706 -0.07098881 -0.07591675]; Mean: -0.07489838751634252\n",
      "KNeighbors Regressor - Score: [-0.07131465 -0.07708153 -0.06759626 -0.07315836 -0.07296846]; Mean: -0.07242385100551738\n",
      "Decision-Tree Regressor - Score: [-0.08682248 -0.08433341 -0.0870507  -0.08007855 -0.10162607]; Mean: -0.08798224173817785\n",
      "Random-Forest Regressor - Score: [-0.05266542 -0.05139345 -0.06188015 -0.04944222 -0.05590926]; Mean: -0.054258098632397764\n"
     ]
    }
   ],
   "source": [
    "from sklearn.model_selection import KFold, cross_val_score\n",
    "\n",
    "#lists for keeping mse\n",
    "train_mse = []\n",
    "test_mse = []\n",
    "\n",
    "#defining splits\n",
    "kfold = KFold(n_splits=5, shuffle=True)\n",
    "\n",
    "for i, model in enumerate(algorithms):\n",
    "    scores = cross_val_score(model, X_train, y_train, cv=kfold, scoring='neg_mean_squared_error')\n",
    "    print(f\"{algorithm_names[i]} - Score: {scores}; Mean: {scores.mean()}\")"
   ]
  },
  {
   "cell_type": "markdown",
   "metadata": {},
   "source": [
    "Random-Forest Regerssor has the heighest mean score = -0.054 which mean the best performing model."
   ]
  },
  {
   "cell_type": "markdown",
   "metadata": {},
   "source": [
    "#### Grid Search - to find the best version of that model"
   ]
  },
  {
   "cell_type": "code",
   "execution_count": 74,
   "metadata": {},
   "outputs": [],
   "source": [
    "from sklearn.model_selection import GridSearchCV\n",
    "\n",
    "param_grid = {'bootstrap': [True], 'max_depth': [5, 10, None],\n",
    "              'n_estimators': [5, 6, 7, 8, 9, 10, 11, 12, 13, 15, 17, 19, 21]}\n",
    "\n",
    "rf = RandomForestRegressor(random_state = 1)\n",
    "\n",
    "grid = GridSearchCV(estimator = rf, \n",
    "                    param_grid = param_grid, \n",
    "                    cv = kfold, \n",
    "                    n_jobs = -1, \n",
    "                    return_train_score=True, \n",
    "                    refit=True,\n",
    "                    scoring='neg_mean_squared_error')\n",
    "\n",
    "# Fit your grid_search\n",
    "grid.fit(X_train, y_train);  #fit means start looping all the possible parameters"
   ]
  },
  {
   "cell_type": "code",
   "execution_count": 75,
   "metadata": {},
   "outputs": [
    {
     "name": "stdout",
     "output_type": "stream",
     "text": [
      "Train MSE: 0.01\n",
      "Test MSE: 0.05\n"
     ]
    }
   ],
   "source": [
    "#Evaluate our best model with mse on training & testing X\n",
    "from sklearn.metrics import mean_squared_error\n",
    "\n",
    "def evaluate_model(model, X, y):\n",
    "    y_pred = model.predict(X)\n",
    "    mse = mean_squared_error(y, y_pred)\n",
    "    return mse\n",
    "\n",
    "train_mse = evaluate_model(grid, X_train, y_train)\n",
    "test_mse = evaluate_model(grid, X_test, y_test)\n",
    "print(f\"Train MSE: {train_mse:.2f}\")\n",
    "print(f\"Test MSE: {test_mse:.2f}\")"
   ]
  },
  {
   "cell_type": "code",
   "execution_count": 76,
   "metadata": {},
   "outputs": [
    {
     "data": {
      "text/plain": [
       "{'bootstrap': True, 'max_depth': None, 'n_estimators': 21}"
      ]
     },
     "execution_count": 76,
     "metadata": {},
     "output_type": "execute_result"
    }
   ],
   "source": [
    "grid.best_params_"
   ]
  },
  {
   "cell_type": "code",
   "execution_count": 77,
   "metadata": {},
   "outputs": [
    {
     "data": {
      "text/plain": [
       "np.float64(-0.054615329573222404)"
      ]
     },
     "execution_count": 77,
     "metadata": {},
     "output_type": "execute_result"
    }
   ],
   "source": [
    "# Find your grid_search's best score\n",
    "best_mse = grid.best_score_\n",
    "best_mse    # ignore the minus because it's neg_mean_squared_error"
   ]
  },
  {
   "cell_type": "markdown",
   "metadata": {},
   "source": [
    "# 7. Testing -check"
   ]
  },
  {
   "cell_type": "code",
   "execution_count": 78,
   "metadata": {},
   "outputs": [
    {
     "data": {
      "text/plain": [
       "0.049315583189632126"
      ]
     },
     "execution_count": 78,
     "metadata": {},
     "output_type": "execute_result"
    }
   ],
   "source": [
    "yhat = grid.predict(X_test)\n",
    "mean_squared_error(y_test, yhat)"
   ]
  },
  {
   "cell_type": "code",
   "execution_count": 79,
   "metadata": {},
   "outputs": [
    {
     "data": {
      "text/plain": [
       "22896121853.838352"
      ]
     },
     "execution_count": 79,
     "metadata": {},
     "output_type": "execute_result"
    }
   ],
   "source": [
    "# MSE for grid changing log value to normal value\n",
    "yhat = grid.predict(X_test)\n",
    "yhat1 = np.exp(yhat)\n",
    "y_test1 = np.exp(y_test)\n",
    "\n",
    "mean_squared_error(y_test1, yhat1)"
   ]
  },
  {
   "cell_type": "markdown",
   "metadata": {},
   "source": [
    "# 8. Analysis: Feature Importance"
   ]
  },
  {
   "cell_type": "markdown",
   "metadata": {},
   "source": [
    "## Algorithm way"
   ]
  },
  {
   "cell_type": "code",
   "execution_count": 80,
   "metadata": {},
   "outputs": [
    {
     "data": {
      "text/plain": [
       "array([0.46603765, 0.03279113, 0.03114789, 0.05492136, 0.41510196])"
      ]
     },
     "execution_count": 80,
     "metadata": {},
     "output_type": "execute_result"
    }
   ],
   "source": [
    "#For the Random-Forest Regerssor (Best model)\n",
    "rf = grid.best_estimator_\n",
    "rf.feature_importances_"
   ]
  },
  {
   "cell_type": "code",
   "execution_count": 81,
   "metadata": {},
   "outputs": [
    {
     "data": {
      "text/plain": [
       "<BarContainer object of 5 artists>"
      ]
     },
     "execution_count": 81,
     "metadata": {},
     "output_type": "execute_result"
    },
    {
     "data": {
      "image/png": "[encoded data removed]",
      "text/plain": [
       "<Figure size 640x480 with 1 Axes>"
      ]
     },
     "metadata": {},
     "output_type": "display_data"
    }
   ],
   "source": [
    "#plot\n",
    "plt.barh(X.columns, rf.feature_importances_)   "
   ]
  },
  {
   "cell_type": "code",
   "execution_count": 82,
   "metadata": {},
   "outputs": [
    {
     "data": {
      "text/plain": [
       "Text(0.5, 0, 'Random Forest Feature Importance')"
      ]
     },
     "execution_count": 82,
     "metadata": {},
     "output_type": "execute_result"
    },
    {
     "data": {
      "image/png": "[encoded data removed]",
      "text/plain": [
       "<Figure size 640x480 with 1 Axes>"
      ]
     },
     "metadata": {},
     "output_type": "display_data"
    }
   ],
   "source": [
    "#Sort the plot from highest to lowest\n",
    "sorted_idx = rf.feature_importances_.argsort()\n",
    "plt.barh(X.columns[sorted_idx], rf.feature_importances_[sorted_idx])\n",
    "plt.xlabel(\"Random Forest Feature Importance\")"
   ]
  },
  {
   "cell_type": "markdown",
   "metadata": {},
   "source": [
    "## Permutation way"
   ]
  },
  {
   "cell_type": "code",
   "execution_count": 83,
   "metadata": {},
   "outputs": [
    {
     "data": {
      "text/plain": [
       "Text(0.5, 0, 'Random Forest Feature Importance')"
      ]
     },
     "execution_count": 83,
     "metadata": {},
     "output_type": "execute_result"
    },
    {
     "data": {
      "image/png": "[encoded data removed]",
      "text/plain": [
       "<Figure size 640x480 with 1 Axes>"
      ]
     },
     "metadata": {},
     "output_type": "display_data"
    }
   ],
   "source": [
    "from sklearn.inspection import permutation_importance\n",
    "\n",
    "perm_importance = permutation_importance(rf, X_test, y_test)\n",
    "\n",
    "#let's plot\n",
    "sorted_idx = perm_importance.importances_mean.argsort()\n",
    "plt.barh(X.columns[sorted_idx], perm_importance.importances_mean[sorted_idx])\n",
    "plt.xlabel(\"Random Forest Feature Importance\")\n"
   ]
  },
  {
   "cell_type": "markdown",
   "metadata": {},
   "source": [
    "## Shap way"
   ]
  },
  {
   "cell_type": "code",
   "execution_count": 84,
   "metadata": {},
   "outputs": [
    {
     "name": "stderr",
     "output_type": "stream",
     "text": [
      "d:\\Amy\\AIT\\Term 2\\ML\\MLAssignment\\A1\\env_A1\\lib\\site-packages\\tqdm\\auto.py:21: TqdmWarning: IProgress not found. Please update jupyter and ipywidgets. See https://ipywidgets.readthedocs.io/en/stable/user_install.html\n",
      "  from .autonotebook import tqdm as notebook_tqdm\n"
     ]
    }
   ],
   "source": [
    "import shap\n",
    "\n",
    "explainer = shap.TreeExplainer(rf)\n",
    "shap_values = explainer.shap_values(X_test)"
   ]
  },
  {
   "cell_type": "code",
   "execution_count": 85,
   "metadata": {},
   "outputs": [
    {
     "data": {
      "image/png": "[encoded data removed]",
      "text/plain": [
       "<Figure size 800x350 with 1 Axes>"
      ]
     },
     "metadata": {},
     "output_type": "display_data"
    }
   ],
   "source": [
    "#shap provides plot\n",
    "shap.summary_plot(shap_values, X_test, plot_type=\"bar\", feature_names = X.columns)"
   ]
  },
  {
   "cell_type": "markdown",
   "metadata": {},
   "source": [
    "# 9. Inference"
   ]
  },
  {
   "cell_type": "code",
   "execution_count": 86,
   "metadata": {},
   "outputs": [],
   "source": [
    "import pickle\n",
    "\n",
    "# save the model to disk\n",
    "filename = 'model/pk_selling_price.model'\n",
    "pickle.dump(grid, open(filename, 'wb'))\n",
    "fileScaleName = \"model/pk_scale.model\"\n",
    "pickle.dump(scaler, open(fileScaleName, 'wb'))"
   ]
  },
  {
   "cell_type": "code",
   "execution_count": 87,
   "metadata": {},
   "outputs": [],
   "source": [
    "# load the model from disk\n",
    "loaded_model = pickle.load(open(filename, 'rb'))"
   ]
  },
  {
   "cell_type": "code",
   "execution_count": 88,
   "metadata": {},
   "outputs": [
    {
     "data": {
      "text/plain": [
       "year                   2014\n",
       "km_driven            120000\n",
       "mileage          21.14 kmpl\n",
       "engine              1498 CC\n",
       "max_power        103.52 bhp\n",
       "selling_price        370000\n",
       "Name: 1, dtype: object"
      ]
     },
     "execution_count": 88,
     "metadata": {},
     "output_type": "execute_result"
    }
   ],
   "source": [
    "#let's try to create one silly example - row 2 from our dataset \n",
    "df[['year', 'km_driven', 'mileage', 'engine', 'max_power','selling_price']].loc[1]"
   ]
  },
  {
   "cell_type": "code",
   "execution_count": 89,
   "metadata": {},
   "outputs": [],
   "source": [
    "#['year', 'km_driven', 'mileage', 'engine', 'max_power']\n",
    "# New sample data\n",
    "sample = np.array([[2014, 120000, 21.14, 1498, 103.52]])\n",
    "# Convert sample to DataFrame with the same feature names\n",
    "sample_df = pd.DataFrame(sample, columns=['year', 'km_driven', 'mileage', 'engine', 'max_power'])"
   ]
  },
  {
   "cell_type": "code",
   "execution_count": 90,
   "metadata": {},
   "outputs": [
    {
     "name": "stdout",
     "output_type": "stream",
     "text": [
      "[[0.05753396 0.82837845 0.44321582 0.09048466 0.33711524]]\n"
     ]
    }
   ],
   "source": [
    "temp = scaler.transform(sample_df)\n",
    "print(temp)"
   ]
  },
  {
   "cell_type": "code",
   "execution_count": 91,
   "metadata": {},
   "outputs": [
    {
     "data": {
      "text/plain": [
       "array([470362.32569277])"
      ]
     },
     "execution_count": 91,
     "metadata": {},
     "output_type": "execute_result"
    }
   ],
   "source": [
    "predicted_selling_price = loaded_model.predict(temp)\n",
    "np.exp(predicted_selling_price)"
   ]
  },
  {
   "cell_type": "code",
   "execution_count": 92,
   "metadata": {},
   "outputs": [
    {
     "name": "stdout",
     "output_type": "stream",
     "text": [
      "year: 2015.0\n",
      "km_driven: 60000.0\n",
      "mileage: 19.41878335651954\n",
      "engine: 1248.0\n",
      "max_power: 82.0\n"
     ]
    }
   ],
   "source": [
    "# Assuming df is your DataFrame\n",
    "stats = df.agg({\n",
    "    'year': 'median',\n",
    "    'km_driven': 'median',\n",
    "    'mileage': lambda x: pd.to_numeric(x.str.extract('(\\d+\\.\\d+)')[0]).mean(),\n",
    "    'engine': lambda x: pd.to_numeric(x.str.extract('(\\d+)')[0]).median(),\n",
    "    'max_power': lambda x: pd.to_numeric(x.str.extract('(\\d+\\.\\d+|\\d+)')[0]).median()\n",
    "})\n",
    "\n",
    "default_vlaue = stats.to_dict()\n",
    "\n",
    "# To print each key and value\n",
    "for key, value in default_vlaue.items():\n",
    "    print(f\"{key}: {value}\")\n",
    "\n",
    "    \n",
    "# save the model to disk\n",
    "filename = 'model/pk_default_value.model'\n",
    "pickle.dump(default_vlaue, open(filename, 'wb'))\n",
    "\n"
   ]
  },
  {
   "cell_type": "markdown",
   "metadata": {},
   "source": [
    "# Task 2 : Analysis and Report"
   ]
  },
  {
   "cell_type": "markdown",
   "metadata": {},
   "source": [
    "## Which features significantly impact predictions, and which do not? Why?"
   ]
  },
  {
   "cell_type": "markdown",
   "metadata": {},
   "source": [
    "Significant features:\n",
    "\n",
    "The features significantly impacting our model predictions include year, km_driven, mileage, engine, and max_power. These were identified using rf.feature_importances_.argsort(), which sorts features based on their importance in the RandomForest model. These top five features have a significant impact on the accuracy of our predictions. Other features are less critical, which means including them might not justify the extra cost in computational resources and effort needed to collect the data.\n",
    "\n",
    "Insignificant features:\n",
    "\n",
    "Seats:  The correlation with the selling price is very low, showing that this feature doesn't significantly influence the price.\n",
    "\n",
    "Name, Fuel, Seller Type, Transmission, Owner: Analysis using rf.feature_importances_.argsort() indicates that these features have a minimal impact on our model’s prediction capabilities for the selling price.\n",
    "\n",
    "Torque: Because This feature is not well understood within the company, complicating its use in predictive analysis due to insufficient domain knowledge."
   ]
  },
  {
   "cell_type": "markdown",
   "metadata": {},
   "source": [
    "## Which algorithms performed well, and which did not? Why?"
   ]
  },
  {
   "cell_type": "markdown",
   "metadata": {},
   "source": [
    "Answer: The RandomForestRegressor outperformed other models (Linear Regressio, SVR, KNeighbors Regressor and  Decision-Tree Regressor) , as evidenced by its highest (least negative) mean score from the cross-validation using negative Mean Squared Error (MSE) scores. This indicates that it is more adept at handling the dataset and predicting outcomes accurately compared to other algorithms tested."
   ]
  }
 ],
 "metadata": {
  "kernelspec": {
   "display_name": "Python 3",
   "language": "python",
   "name": "python3"
  },
  "language_info": {
   "codemirror_mode": {
    "name": "ipython",
    "version": 3
   },
   "file_extension": ".py",
   "mimetype": "text/x-python",
   "name": "python",
   "nbconvert_exporter": "python",
   "pygments_lexer": "ipython3",
   "version": "3.9.13"
  }
 },
 "nbformat": 4,
 "nbformat_minor": 2
}
